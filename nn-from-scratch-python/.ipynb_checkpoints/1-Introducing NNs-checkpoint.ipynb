{
 "cells": [
  {
   "attachments": {},
   "cell_type": "markdown",
   "id": "eec84a42",
   "metadata": {},
   "source": [
    "# Introducing Neural Networks\n",
    "\n",
    "Objective:\n",
    "1. To learn how to implement Neural Networks from Scratch.\n",
    "2. By doing this learn and remember the basics of Neural Networks.\n",
    "3. Create a set of code and functions which I can use later while implementing projects.\n",
    "4. Also create code in cpp, so that I can implement it in embedded format.\n",
    "5. Compare it with actual biological neural networks and liquid neural networks.\n",
    "\n",
    "\n",
    "Method:\n",
    "1. Read the book and make notes in question and answer format.\n",
    "2. Make inline notes in the book itself.\n",
    "3. Whatever I write here is in my own language.\n",
    "4. **Feynmann Technique** : Think of yourself as a noob and you are trying to teach yourself, not to anyone else.\n",
    "5. First read the book, make inline notes, try to understand there. And then make notes here.\n",
    "\n",
    "\n",
    "I will write the questions here and try to answer in my own words once I am done reading the chapter. Also I will write the code in C++, so that I have the code I can use to implement NNs in C++."
   ]
  },
  {
   "cell_type": "markdown",
   "id": "018c8dda",
   "metadata": {},
   "source": [
    "### What is a Neural Network?\n",
    "\n",
    "\n",
    "\n",
    "### What is the history of Neural Networks?\n",
    "\n",
    "### What is a Neuron?\n",
    "\n",
    "### What are parameters?\n",
    "A parameter is a number which the neural network learns during the training.\n",
    "Parameters are nothing but weights and biases of a NN.\n",
    "\n",
    "### How do we calculate the number of parameters of a network?\n",
    "Number of parameters is nothing but the sum of weights and biases of the network. \\\n",
    "\n",
    "1. Each neuron will have a bias term, except in the input layer. \\\n",
    "So the number of biases grow with the number of neurons in the hidden layers and the output layer.\n",
    "\n",
    "2. Each connection between two neurons will have a weight term associated with it.\n",
    "\n",
    "\n",
    "### What is formula for the output of a single neuron?"
   ]
  },
  {
   "cell_type": "code",
   "execution_count": 1,
   "id": "1b952ec0",
   "metadata": {},
   "outputs": [
    {
     "ename": "NameError",
     "evalue": "name 'inputs' is not defined",
     "output_type": "error",
     "traceback": [
      "\u001b[1;31m---------------------------------------------------------------------------\u001b[0m",
      "\u001b[1;31mNameError\u001b[0m                                 Traceback (most recent call last)",
      "Cell \u001b[1;32mIn[1], line 3\u001b[0m\n\u001b[0;32m      1\u001b[0m \u001b[38;5;66;03m# Formula for a single neuron looks like:\u001b[39;00m\n\u001b[1;32m----> 3\u001b[0m output \u001b[38;5;241m=\u001b[39m \u001b[38;5;28msum\u001b[39m(\u001b[43minputs\u001b[49m \u001b[38;5;241m*\u001b[39m weights) \u001b[38;5;241m+\u001b[39m bias\n\u001b[0;32m      5\u001b[0m output \u001b[38;5;241m=\u001b[39m activation(output)\n",
      "\u001b[1;31mNameError\u001b[0m: name 'inputs' is not defined"
     ]
    }
   ],
   "source": [
    "# Formula for a single neuron looks like:\n",
    "\n",
    "output = sum(inputs * weights) + bias\n",
    "\n",
    "output = activation(output)"
   ]
  },
  {
   "cell_type": "markdown",
   "id": "241cc687",
   "metadata": {},
   "source": [
    "What are activation functions?\n",
    "\n",
    "\n",
    "Give examples of activation functions.\n",
    "1. Identity\n",
    "2. Step Function\n",
    "3. ReLU"
   ]
  },
  {
   "cell_type": "code",
   "execution_count": null,
   "id": "de4451d6",
   "metadata": {},
   "outputs": [],
   "source": []
  },
  {
   "cell_type": "markdown",
   "id": "ece040ed",
   "metadata": {},
   "source": [
    "# Appendix\n",
    "\n",
    "Tools to visualize Deep Learning Models:\n",
    "\n",
    "1. [ANN Visualizer](https://github.com/RedaOps/ann-visualizer)\n",
    "\n",
    "This relies on python's graphviz library to create a presentable graph of the neural network. This is a good visualization library used to work with keras.\n"
   ]
  },
  {
   "cell_type": "code",
   "execution_count": 3,
   "id": "aeb8a83c",
   "metadata": {},
   "outputs": [
    {
     "ename": "ModuleNotFoundError",
     "evalue": "No module named 'ann'",
     "output_type": "error",
     "traceback": [
      "\u001b[1;31m---------------------------------------------------------------------------\u001b[0m",
      "\u001b[1;31mModuleNotFoundError\u001b[0m                       Traceback (most recent call last)",
      "Cell \u001b[1;32mIn[3], line 4\u001b[0m\n\u001b[0;32m      2\u001b[0m \u001b[38;5;28;01mfrom\u001b[39;00m \u001b[38;5;21;01mkeras\u001b[39;00m\u001b[38;5;21;01m.\u001b[39;00m\u001b[38;5;21;01mmodels\u001b[39;00m \u001b[38;5;28;01mimport\u001b[39;00m Sequential\n\u001b[0;32m      3\u001b[0m \u001b[38;5;28;01mfrom\u001b[39;00m \u001b[38;5;21;01mkeras\u001b[39;00m\u001b[38;5;21;01m.\u001b[39;00m\u001b[38;5;21;01mlayers\u001b[39;00m \u001b[38;5;28;01mimport\u001b[39;00m Dense\n\u001b[1;32m----> 4\u001b[0m \u001b[38;5;28;01mfrom\u001b[39;00m \u001b[38;5;21;01mann\u001b[39;00m\u001b[38;5;21;01m.\u001b[39;00m\u001b[38;5;21;01mvisualizer\u001b[39;00m\u001b[38;5;21;01m.\u001b[39;00m\u001b[38;5;21;01mvisualize\u001b[39;00m \u001b[38;5;28;01mimport\u001b[39;00m ann_viz\n",
      "\u001b[1;31mModuleNotFoundError\u001b[0m: No module named 'ann'"
     ]
    }
   ],
   "source": [
    "import keras\n",
    "from keras.models import Sequential\n",
    "from keras.layers import Dense\n",
    "from ann.visualizer.visualize import ann_viz"
   ]
  },
  {
   "cell_type": "code",
   "execution_count": null,
   "id": "45a51cdf",
   "metadata": {},
   "outputs": [],
   "source": []
  }
 ],
 "metadata": {
  "kernelspec": {
   "display_name": "Python 3 (ipykernel)",
   "language": "python",
   "name": "python3"
  },
  "language_info": {
   "codemirror_mode": {
    "name": "ipython",
    "version": 3
   },
   "file_extension": ".py",
   "mimetype": "text/x-python",
   "name": "python",
   "nbconvert_exporter": "python",
   "pygments_lexer": "ipython3",
   "version": "3.11.2"
  }
 },
 "nbformat": 4,
 "nbformat_minor": 5
}
