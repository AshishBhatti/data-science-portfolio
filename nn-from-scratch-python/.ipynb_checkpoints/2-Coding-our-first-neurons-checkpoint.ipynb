{
 "cells": [
  {
   "cell_type": "markdown",
   "id": "cf87ec29",
   "metadata": {},
   "source": [
    "# Coding our first neurons"
   ]
  },
  {
   "cell_type": "code",
   "execution_count": 1,
   "id": "4c7f26a2",
   "metadata": {},
   "outputs": [],
   "source": [
    "# Libraries we need\n",
    "import numpy as np\n",
    "import matplotlib.pyplot as plt"
   ]
  },
  {
   "cell_type": "markdown",
   "id": "9a4a8396",
   "metadata": {},
   "source": [
    "The book also teaches how to write the code without numpy. But numpy is one of the most important libraries for data science, so it also teaches that."
   ]
  },
  {
   "cell_type": "markdown",
   "id": "0a617d5d",
   "metadata": {},
   "source": [
    "## A Single Neuron\n",
    "\n",
    "\n",
    "#### Example 1: three inputs\n",
    "Defining somethings for our example neuron to start: \n",
    "1. Number of inputs to the neuron = 3\n",
    "2. Weights initialized randomly\n",
    "3. Bias set as zero\n",
    "\n",
    "In most cases, when you initialize parameters in neural networks, weights are initialized randomly, and biases are set to zero. Why? Later. \\\n",
    "Input can be either be actual training data or the outputs of neurons from previous layer."
   ]
  },
  {
   "cell_type": "code",
   "execution_count": 2,
   "id": "398982f6",
   "metadata": {},
   "outputs": [],
   "source": [
    "inputs = [1, 2, 3]                            # Made up inputs for example"
   ]
  },
  {
   "cell_type": "markdown",
   "id": "d712cd58",
   "metadata": {},
   "source": [
    "Trainable Parameters:\n",
    "1. Weights: Associated with each input\n",
    "2. Biases: Associated with each neuron\n",
    "\n",
    "Each input has a weight associated with it. Weights are the parameters that are tuned to get results. Weights and biases are the values that change inside the model during the training phase. These values are what make a model acuatlly work (or do not work).\n",
    "\\\n",
    "Bias is the value associated with each neuron."
   ]
  },
  {
   "cell_type": "code",
   "execution_count": 7,
   "id": "42f599c5",
   "metadata": {},
   "outputs": [],
   "source": [
    "weights = [0.2, 0.8, -0.5]                    # Randomly initialized        \n",
    "bias = 2                                      # Randomly initialized"
   ]
  },
  {
   "cell_type": "markdown",
   "id": "ff15a127",
   "metadata": {},
   "source": [
    "This neuron sums each input multiplied by that input's weight, then adds the bias.\n",
    "All the neuron foes is take the fractions of inputs, where these fractions (weights) are adjustable parameters, and adds to another adjustable parameter, bias (the offset).\n",
    "\n",
    "**Output here is a linear combination of inputs multiplied by some weights and offset by a bias.**"
   ]
  },
  {
   "cell_type": "code",
   "execution_count": 8,
   "id": "3e826f59",
   "metadata": {},
   "outputs": [
    {
     "name": "stdout",
     "output_type": "stream",
     "text": [
      "2.3\n"
     ]
    }
   ],
   "source": [
    "output = ( inputs[0]*weights[0] +\n",
    "           inputs[1]*weights[1] +\n",
    "           inputs[2]*weights[2] +\n",
    "           bias )\n",
    "\n",
    "print(output)"
   ]
  },
  {
   "cell_type": "markdown",
   "id": "76102aa8",
   "metadata": {},
   "source": [
    "Note the activation function is identity in this case."
   ]
  },
  {
   "cell_type": "markdown",
   "id": "9947d4df",
   "metadata": {},
   "source": [
    "#### Example 2: four inputs\n",
    "\n",
    "Defining parameters before we start:\n",
    "1. Number of inputs to neuron = 4\n",
    "2. Weights randomly initialized\n",
    "3. bias randomly intialized\n",
    "\n",
    "Together the code looks like this"
   ]
  },
  {
   "cell_type": "code",
   "execution_count": 10,
   "id": "942c59d7",
   "metadata": {},
   "outputs": [
    {
     "name": "stdout",
     "output_type": "stream",
     "text": [
      "4.8\n"
     ]
    }
   ],
   "source": [
    "inputs = [1.0, 2.0, 3.0, 2.5]\n",
    "\n",
    "# Initializing Parameters\n",
    "weights = [0.2, 0.8, -0.5, 1.0]\n",
    "bias = 2.0\n",
    "\n",
    "output = (inputs[0]*weights[0] + \n",
    "          inputs[1]*weights[1] +\n",
    "          inputs[2]*weights[2] +\n",
    "          inputs[3]*weights[3] + bias)\n",
    "\n",
    "print(output)\n"
   ]
  },
  {
   "cell_type": "markdown",
   "id": "b7270d48",
   "metadata": {},
   "source": [
    "## A Layer of Neurons\n",
    "\n",
    "Neural networks typically have several layers of neurons. Each layer has multiple neurons. \\\n",
    "Each neuron in a layer has the same input (in case of fully connected networks). But the weights and bias for each neuron are different. This produces a unique output for each neuron. \\\n",
    "The layer's output is a set of each neuron output - one per neuron."
   ]
  },
  {
   "cell_type": "markdown",
   "id": "075d0554",
   "metadata": {},
   "source": [
    "An example scenario:\n",
    "- No of neurons in the layer = 3\n",
    "- No of inputs  = 4"
   ]
  },
  {
   "cell_type": "code",
   "execution_count": 1,
   "id": "ceb94b14",
   "metadata": {},
   "outputs": [
    {
     "name": "stdout",
     "output_type": "stream",
     "text": [
      "[4.8, 1.21, 2.385]\n"
     ]
    }
   ],
   "source": [
    "inputs = [1, 2, 3, 2.5]\n",
    "\n",
    "# Initializing parameters\n",
    "weights1 = [0.2, 0.8, -0.5, 1]\n",
    "weights2 = [0.5, -0.91, 0.26, -0.5]\n",
    "weights3 = [-0.26, -0.27, 0.17, 0.87]\n",
    "\n",
    "bias1 = 2\n",
    "bias2 = 3\n",
    "bias3 = 0.5\n",
    "\n",
    "outputs = [\n",
    "          # neuron1\n",
    "          inputs[0]*weights1[0] + \n",
    "          inputs[1]*weights1[1] +\n",
    "          inputs[2]*weights1[2] +\n",
    "          inputs[3]*weights1[3] + bias1,\n",
    "    \n",
    "          # neuron2\n",
    "          inputs[0]*weights2[0] + \n",
    "          inputs[1]*weights2[1] +\n",
    "          inputs[2]*weights2[2] +\n",
    "          inputs[3]*weights2[3] + bias2,\n",
    "    \n",
    "          # neuron3\n",
    "          inputs[0]*weights3[0] + \n",
    "          inputs[1]*weights3[1] +\n",
    "          inputs[2]*weights3[2] +\n",
    "          inputs[3]*weights3[3] + bias3\n",
    "]\n",
    "\n",
    "print(outputs)"
   ]
  },
  {
   "cell_type": "markdown",
   "id": "222caed8",
   "metadata": {},
   "source": [
    "If the number of neurons increase, writing the expressions for each of the neurons become tedious. In such cases, using loops makes the task easier. \\\n",
    "Implementing the same layer using loops."
   ]
  },
  {
   "cell_type": "code",
   "execution_count": 8,
   "id": "b41343e2",
   "metadata": {},
   "outputs": [
    {
     "name": "stdout",
     "output_type": "stream",
     "text": [
      "[4.8, 1.21, 2.385]\n"
     ]
    }
   ],
   "source": [
    "inputs = [1, 2, 3, 2.5]\n",
    "\n",
    "# Initializing parameters\n",
    "weights = [[0.2, 0.8, -0.5, 1],\n",
    "           [0.5, -0.91, 0.26, -0.5],\n",
    "           [-0.26, -0.27, 0.17, 0.87]]\n",
    "biases = [2, 3, 0.5]\n",
    "\n",
    "\n",
    "# Output of current layer\n",
    "layer_outputs = []\n",
    "\n",
    "no_of_neurons = 3\n",
    "# For each neuron\n",
    "for neuron_weights, neuron_bias in zip(weights, biases):\n",
    "    neuron_output = 0\n",
    "    # For each input and weight to the neuron\n",
    "    for n_input, weight in zip(inputs, neuron_weights):\n",
    "        # Multiply this input by the associated weight\n",
    "        # and add to neuron's output variable\n",
    "        neuron_output += n_input*weight\n",
    "    # Add bias\n",
    "    neuron_output += neuron_bias\n",
    "    # Put neuron output to the layer output list\n",
    "    layer_outputs.append(neuron_output)\n",
    "    \n",
    "print(layer_outputs)\n",
    "    "
   ]
  },
  {
   "cell_type": "markdown",
   "id": "569d712c",
   "metadata": {},
   "source": [
    "The zip function lets us iterate over multiple iterables simultaneously, lists in the case above."
   ]
  },
  {
   "cell_type": "markdown",
   "id": "59be6f14-766f-4da3-a9b7-1769dbcd4849",
   "metadata": {},
   "source": [
    "## Tensors, Arrays and Vectors"
   ]
  },
  {
   "cell_type": "markdown",
   "id": "344d2308-aa57-4967-a757-54c997cee2a6",
   "metadata": {},
   "source": [
    "A **list** is a data-type in python, defined by comma-separated objects contained in brackets.\n",
    " "
   ]
  },
  {
   "cell_type": "code",
   "execution_count": 2,
   "id": "e0dc5da9",
   "metadata": {},
   "outputs": [],
   "source": [
    "# simple list (1D)\n",
    "l = [1,5,6,2]     \n",
    "\n",
    "# list of lists (2D)\n",
    "lol = [\n",
    "    [1,5,6,2],\n",
    "    [3,2,1,3]\n",
    "]\n",
    "\n",
    "# a list of list of lists (3D)\n",
    "lolol = [\n",
    "    [\n",
    "        [1,5,6,2],\n",
    "        [3,2,1,3]\n",
    "    ],\n",
    "    [\n",
    "        [5,2,1,2],\n",
    "        [6,4,8,4]\n",
    "    ],\n",
    "    [\n",
    "        [2,8,5,3],\n",
    "        [1,1,9,4]\n",
    "    ]\n",
    "]"
   ]
  },
  {
   "cell_type": "markdown",
   "id": "63b07889-09cf-4df0-a412-d80438eb4350",
   "metadata": {},
   "source": [
    "List uptil above can be arrays as well, because they are all **homologous**. But the list below cannot be an array."
   ]
  },
  {
   "cell_type": "code",
   "execution_count": 3,
   "id": "e2e96fc5",
   "metadata": {},
   "outputs": [],
   "source": [
    "another_lol = [\n",
    "    [4,3,2],\n",
    "    [5,6]\n",
    "]"
   ]
  },
  {
   "cell_type": "markdown",
   "id": "7be601a3-0789-497c-bc73-756042a7a8fc",
   "metadata": {},
   "source": [
    "A **matrix** is simply a rectangular array. It has rows and columns. It is 2D. Arrays can have many more dimensions.\n",
    "\n",
    "A **tensor** is an object that can be represented as an array.\n",
    "\n",
    "An **array** as an ordered homologous container for numbers, and we mostly use this term when working with the NumPy package since that’s what the main data structure is called within it.\n",
    "\n",
    "A **vector** is 1D array."
   ]
  },
  {
   "cell_type": "markdown",
   "id": "93f50394-ece4-47e0-b117-b79e3cbad413",
   "metadata": {},
   "source": [
    "## Dot Product and Vector Addition"
   ]
  },
  {
   "cell_type": "code",
   "execution_count": null,
   "id": "b2d0ce46",
   "metadata": {},
   "outputs": [],
   "source": []
  },
  {
   "cell_type": "code",
   "execution_count": null,
   "id": "8428b243",
   "metadata": {},
   "outputs": [],
   "source": []
  }
 ],
 "metadata": {
  "kernelspec": {
   "display_name": "Python 3 (ipykernel)",
   "language": "python",
   "name": "python3"
  },
  "language_info": {
   "codemirror_mode": {
    "name": "ipython",
    "version": 3
   },
   "file_extension": ".py",
   "mimetype": "text/x-python",
   "name": "python",
   "nbconvert_exporter": "python",
   "pygments_lexer": "ipython3",
   "version": "3.11.4"
  }
 },
 "nbformat": 4,
 "nbformat_minor": 5
}
