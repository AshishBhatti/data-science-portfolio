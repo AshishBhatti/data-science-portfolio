{
 "cells": [
  {
   "cell_type": "markdown",
   "id": "eec84a42",
   "metadata": {},
   "source": [
    "# Introducing Neural Networks"
   ]
  },
  {
   "cell_type": "markdown",
   "id": "018c8dda",
   "metadata": {},
   "source": [
    "### What is a Neural Network?\n",
    "\n",
    "\n",
    "\n",
    "### What is the history of Neural Networks?\n",
    "\n",
    "### What is a Neuron?\n",
    "\n",
    "### What are parameters?\n",
    "A parameter is a number which the neural network learns during the training.\n",
    "Parameters are nothing but weights and biases of a NN.\n",
    "\n",
    "### How do we calculate the number of parameters of a network?\n",
    "Number of parameters is nothing but the sum of weights and biases of the network. \n",
    "1. Each neuron will have a bias term, except in the input layer. \\\n",
    "So the number of biases grow with the number of neurons in the hidden layers and the output layer.\n",
    "\n",
    "2. Each connection between two neurons will have a weight term associated with it.\n",
    "\n",
    "\n",
    "### What is formula for the output of a single neuron?"
   ]
  },
  {
   "cell_type": "code",
   "execution_count": 1,
   "id": "1b952ec0",
   "metadata": {},
   "outputs": [
    {
     "ename": "NameError",
     "evalue": "name 'inputs' is not defined",
     "output_type": "error",
     "traceback": [
      "\u001b[1;31m---------------------------------------------------------------------------\u001b[0m",
      "\u001b[1;31mNameError\u001b[0m                                 Traceback (most recent call last)",
      "Cell \u001b[1;32mIn[1], line 3\u001b[0m\n\u001b[0;32m      1\u001b[0m \u001b[38;5;66;03m# Formula for a single neuron looks like:\u001b[39;00m\n\u001b[1;32m----> 3\u001b[0m output \u001b[38;5;241m=\u001b[39m \u001b[38;5;28msum\u001b[39m(\u001b[43minputs\u001b[49m \u001b[38;5;241m*\u001b[39m weights) \u001b[38;5;241m+\u001b[39m bias\n\u001b[0;32m      5\u001b[0m output \u001b[38;5;241m=\u001b[39m activation(output)\n",
      "\u001b[1;31mNameError\u001b[0m: name 'inputs' is not defined"
     ]
    }
   ],
   "source": [
    "# Formula for a single neuron looks like:\n",
    "\n",
    "output = sum(inputs * weights) + bias\n",
    "\n",
    "output = activation(output)"
   ]
  },
  {
   "cell_type": "markdown",
   "id": "241cc687",
   "metadata": {},
   "source": [
    "What are activation functions?\n",
    "\n",
    "\n",
    "Give examples of activation functions.\n",
    "1. Identity\n",
    "2. Step Function\n",
    "3. ReLU"
   ]
  },
  {
   "cell_type": "code",
   "execution_count": null,
   "id": "de4451d6",
   "metadata": {},
   "outputs": [],
   "source": []
  },
  {
   "cell_type": "markdown",
   "id": "277c1566",
   "metadata": {},
   "source": [
    "# Appendix\n",
    "\n",
    "Tools to visualize Deep Learning Models:"
   ]
  },
  {
   "cell_type": "markdown",
   "id": "ece040ed",
   "metadata": {},
   "source": [
    "#### 1. [Netron](https://github.com/lutzroeder/netron)\n",
    "\n",
    "Viewer for neural networks, deep learning and machine learning models.\n"
   ]
  },
  {
   "cell_type": "code",
   "execution_count": null,
   "id": "8cd4a199",
   "metadata": {},
   "outputs": [],
   "source": []
  },
  {
   "cell_type": "code",
   "execution_count": null,
   "id": "2f8a01d8",
   "metadata": {},
   "outputs": [],
   "source": []
  }
 ],
 "metadata": {
  "kernelspec": {
   "display_name": "Python 3 (ipykernel)",
   "language": "python",
   "name": "python3"
  },
  "language_info": {
   "codemirror_mode": {
    "name": "ipython",
    "version": 3
   },
   "file_extension": ".py",
   "mimetype": "text/x-python",
   "name": "python",
   "nbconvert_exporter": "python",
   "pygments_lexer": "ipython3",
   "version": "3.11.4"
  }
 },
 "nbformat": 4,
 "nbformat_minor": 5
}
