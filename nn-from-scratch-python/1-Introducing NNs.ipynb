{
 "cells": [
  {
   "attachments": {},
   "cell_type": "markdown",
   "id": "39e754ea",
   "metadata": {},
   "source": [
    "# Introducing Neural Networks\n",
    "\n",
    "I will write the questions here and try to answer in my own words once I am done reading the chapter.\n",
    "\n",
    "What is the history of Neural Networks?\n",
    "\n",
    "What is a Neural Network?\n",
    "\n",
    "What is a Neuron?\n",
    "\n",
    "What are parameters and how are they calculated?\n",
    "\n",
    "What is formula for the output of a single neuron?\n"
   ]
  },
  {
   "cell_type": "code",
   "execution_count": 1,
   "id": "2fc68e33",
   "metadata": {},
   "outputs": [
    {
     "ename": "NameError",
     "evalue": "name 'inputs' is not defined",
     "output_type": "error",
     "traceback": [
      "\u001b[1;31m---------------------------------------------------------------------------\u001b[0m",
      "\u001b[1;31mNameError\u001b[0m                                 Traceback (most recent call last)",
      "Cell \u001b[1;32mIn[1], line 3\u001b[0m\n\u001b[0;32m      1\u001b[0m \u001b[38;5;66;03m# Formula for a single neuron looks like:\u001b[39;00m\n\u001b[1;32m----> 3\u001b[0m output \u001b[38;5;241m=\u001b[39m \u001b[38;5;28msum\u001b[39m(\u001b[43minputs\u001b[49m \u001b[38;5;241m*\u001b[39m weights) \u001b[38;5;241m+\u001b[39m bias\n\u001b[0;32m      5\u001b[0m output \u001b[38;5;241m=\u001b[39m activation(output)\n",
      "\u001b[1;31mNameError\u001b[0m: name 'inputs' is not defined"
     ]
    }
   ],
   "source": [
    "# Formula for a single neuron looks like:\n",
    "\n",
    "output = sum(inputs * weights) + bias\n",
    "\n",
    "output = activation(output)"
   ]
  },
  {
   "cell_type": "markdown",
   "id": "c05256f9",
   "metadata": {},
   "source": [
    "What are activation functions?\n",
    "\n",
    "\n",
    "Give examples of activation functions."
   ]
  },
  {
   "cell_type": "code",
   "execution_count": null,
   "id": "9badfd18",
   "metadata": {},
   "outputs": [],
   "source": []
  },
  {
   "cell_type": "code",
   "execution_count": null,
   "id": "705ec482",
   "metadata": {},
   "outputs": [],
   "source": []
  },
  {
   "cell_type": "code",
   "execution_count": null,
   "id": "b3c342d0",
   "metadata": {},
   "outputs": [],
   "source": []
  }
 ],
 "metadata": {
  "kernelspec": {
   "display_name": "Python 3 (ipykernel)",
   "language": "python",
   "name": "python3"
  },
  "language_info": {
   "codemirror_mode": {
    "name": "ipython",
    "version": 3
   },
   "file_extension": ".py",
   "mimetype": "text/x-python",
   "name": "python",
   "nbconvert_exporter": "python",
   "pygments_lexer": "ipython3",
   "version": "3.11.2"
  }
 },
 "nbformat": 4,
 "nbformat_minor": 5
}
