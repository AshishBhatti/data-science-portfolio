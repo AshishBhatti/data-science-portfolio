{
  "cells": [
    {
      "cell_type": "code",
      "metadata": {
        "id": "zX4Kg8DUTKWO"
      },
      "source": [
        "#@title Licensed under the Apache License, Version 2.0 (the \"License\");\n",
        "# you may not use this file except in compliance with the License.\n",
        "# You may obtain a copy of the License at\n",
        "#\n",
        "# https://www.apache.org/licenses/LICENSE-2.0\n",
        "#\n",
        "# Unless required by applicable law or agreed to in writing, software\n",
        "# distributed under the License is distributed on an \"AS IS\" BASIS,\n",
        "# WITHOUT WARRANTIES OR CONDITIONS OF ANY KIND, either express or implied.\n",
        "# See the License for the specific language governing permissions and\n",
        "# limitations under the License."
      ],
      "execution_count": null,
      "outputs": []
    },
    {
      "cell_type": "markdown",
      "metadata": {
        "id": "UncprnB0ymAE"
      },
      "source": [
        "Below is code with a link to a happy or sad dataset which contains 80 images, 40 happy and 40 sad.\n",
        "Create a convolutional neural network that trains to 100% accuracy on these images,  which cancels training upon hitting training accuracy of >.999\n",
        "\n",
        "Hint -- it will work best with 3 convolutional layers.\n",
        "\n",
        "Do this after lab5."
      ]
    },
    {
      "cell_type": "code",
      "execution_count": null,
      "metadata": {
        "id": "7Vti6p3PxmpS"
      },
      "outputs": [],
      "source": [
        "import tensorflow as tf\n",
        "import os\n",
        "import zipfile\n",
        "\n",
        "\n",
        "DESIRED_ACCURACY = 0.999\n",
        "\n",
        "!wget --no-check-certificate \\\n",
        "    \"https://storage.googleapis.com/learning-datasets/happy-or-sad.zip\" \\\n",
        "    -O \"/tmp/happy-or-sad.zip\"\n",
        "\n",
        "zip_ref = zipfile.ZipFile(\"/tmp/happy-or-sad.zip\", 'r')\n",
        "zip_ref.extractall(\"/tmp/h-or-s\")\n",
        "zip_ref.close()\n",
        "\n",
        "class myCallback(# Your Code):\n",
        "  # Your Code\n",
        "\n",
        "callbacks = myCallback()"
      ]
    },
    {
      "cell_type": "code",
      "execution_count": null,
      "metadata": {
        "id": "6DLGbXXI1j_V"
      },
      "outputs": [],
      "source": [
        "# This Code Block should Define and Compile the Model\n",
        "model = tf.keras.models.Sequential([\n",
        "# Your Code Here\n",
        "])\n",
        "\n",
        "from tensorflow.keras.optimizers import RMSprop\n",
        "\n",
        "model.compile(# Your Code Here #)"
      ]
    },
    {
      "cell_type": "code",
      "execution_count": null,
      "metadata": {
        "id": "4Ap9fUJE1vVu"
      },
      "outputs": [],
      "source": [
        "# This code block should create an instance of an ImageDataGenerator called train_datagen\n",
        "# And a train_generator by calling train_datagen.flow_from_directory\n",
        "\n",
        "from tensorflow.keras.preprocessing.image import ImageDataGenerator\n",
        "\n",
        "train_datagen = # Your Code Here\n",
        "\n",
        "train_generator = train_datagen.flow_from_directory(\n",
        "        # Your Code Here)\n",
        "\n",
        "# Expected output: 'Found 80 images belonging to 2 classes'"
      ]
    },
    {
      "cell_type": "code",
      "execution_count": null,
      "metadata": {
        "id": "48dLm13U1-Le"
      },
      "outputs": [],
      "source": [
        "# This code block should call model.fit and train for\n",
        "# a number of epochs.\n",
        "history = model.fit(\n",
        "      # Your Code Here)\n",
        "\n",
        "# Expected output: \"Reached 99.9% accuracy so cancelling training!\"\""
      ]
    },
    {
      "cell_type": "markdown",
      "source": [
        "## My answer begins from here"
      ],
      "metadata": {
        "id": "O5soW3aUAPZC"
      }
    },
    {
      "cell_type": "markdown",
      "source": [
        "Below is code with a link to a happy or sad dataset which contains 80 images, 40 happy and 40 sad.\n",
        "Create a convolutional neural network that trains to 100% accuracy on these images,  which cancels training upon hitting training accuracy of >.999\n",
        "\n",
        "Hint -- it will work best with 3 convolutional layers.\n",
        "\n",
        "Do this after lab5."
      ],
      "metadata": {
        "id": "FSfHU5xpr96y"
      }
    },
    {
      "cell_type": "code",
      "source": [
        "# Download the dataset\n",
        "!wget --no-check-certificate \\\n",
        "    \"https://storage.googleapis.com/learning-datasets/happy-or-sad.zip\" \\\n",
        "    -O \"/tmp/happy-or-sad.zip\""
      ],
      "metadata": {
        "colab": {
          "base_uri": "https://localhost:8080/"
        },
        "id": "nAO-ExQbsA2-",
        "outputId": "23a048c5-1174-45ef-b221-92177b2e97a6"
      },
      "execution_count": 1,
      "outputs": [
        {
          "output_type": "stream",
          "name": "stdout",
          "text": [
            "--2023-09-22 11:41:41--  https://storage.googleapis.com/learning-datasets/happy-or-sad.zip\n",
            "Resolving storage.googleapis.com (storage.googleapis.com)... 74.125.130.207, 74.125.68.207, 64.233.170.207, ...\n",
            "Connecting to storage.googleapis.com (storage.googleapis.com)|74.125.130.207|:443... connected.\n",
            "HTTP request sent, awaiting response... 200 OK\n",
            "Length: 2670333 (2.5M) [application/zip]\n",
            "Saving to: ‘/tmp/happy-or-sad.zip’\n",
            "\n",
            "/tmp/happy-or-sad.z 100%[===================>]   2.55M  2.07MB/s    in 1.2s    \n",
            "\n",
            "2023-09-22 11:41:42 (2.07 MB/s) - ‘/tmp/happy-or-sad.zip’ saved [2670333/2670333]\n",
            "\n"
          ]
        }
      ]
    },
    {
      "cell_type": "code",
      "source": [
        "# extracting the zip file\n",
        "import os\n",
        "import zipfile\n",
        "\n",
        "file_loc = '/tmp/happy-or-sad.zip'\n",
        "zip_ref = zipfile.ZipFile(file_loc, 'r')\n",
        "zip_ref.extractall('/tmp/h-or-s')\n",
        "zip_ref.close()"
      ],
      "metadata": {
        "id": "6wMwcNqMsg4m"
      },
      "execution_count": 5,
      "outputs": []
    },
    {
      "cell_type": "code",
      "source": [
        "# Reading one file\n",
        "import matplotlib.pyplot as plt\n",
        "\n",
        "img = plt.imread(\"/tmp/h-or-s/happy/happy1-00.png\")\n",
        "print('Image shape: ', img.shape)    # RGBA image\n",
        "# plt.imshow(img)\n",
        "print(img)"
      ],
      "metadata": {
        "colab": {
          "base_uri": "https://localhost:8080/"
        },
        "id": "Wlithp4Tsix8",
        "outputId": "93b37aa7-f053-457e-b811-00bf4b1bb04d"
      },
      "execution_count": 19,
      "outputs": [
        {
          "output_type": "stream",
          "name": "stdout",
          "text": [
            "Image shape:  (150, 150, 4)\n",
            "[[[0.         0.         0.         0.        ]\n",
            "  [0.         0.         0.         0.        ]\n",
            "  [0.         0.         0.         0.        ]\n",
            "  ...\n",
            "  [0.         0.         0.         0.        ]\n",
            "  [0.         0.         0.         0.        ]\n",
            "  [0.         0.         0.         0.        ]]\n",
            "\n",
            " [[0.         0.         0.         0.        ]\n",
            "  [0.         0.         0.         0.        ]\n",
            "  [0.         0.         0.         0.        ]\n",
            "  ...\n",
            "  [0.         0.         0.         0.        ]\n",
            "  [0.         0.         0.         0.        ]\n",
            "  [0.         0.         0.         0.        ]]\n",
            "\n",
            " [[0.         0.         0.         0.        ]\n",
            "  [0.         0.         0.         0.        ]\n",
            "  [0.         0.         0.         0.        ]\n",
            "  ...\n",
            "  [0.         0.         0.         0.        ]\n",
            "  [0.         0.         0.         0.        ]\n",
            "  [0.         0.         0.         0.        ]]\n",
            "\n",
            " ...\n",
            "\n",
            " [[0.         0.         0.         0.54901963]\n",
            "  [0.         0.         0.         0.5176471 ]\n",
            "  [0.         0.         0.         0.54901963]\n",
            "  ...\n",
            "  [0.         0.         0.         0.14901961]\n",
            "  [0.         0.         0.         0.14117648]\n",
            "  [0.         0.         0.         0.13725491]]\n",
            "\n",
            " [[0.         0.         0.         0.53333336]\n",
            "  [0.         0.         0.         0.5411765 ]\n",
            "  [0.         0.         0.         0.5254902 ]\n",
            "  ...\n",
            "  [0.         0.         0.         0.16470589]\n",
            "  [0.         0.         0.         0.13725491]\n",
            "  [0.         0.         0.         0.15686275]]\n",
            "\n",
            " [[0.         0.         0.         0.5058824 ]\n",
            "  [0.         0.         0.         0.5137255 ]\n",
            "  [0.         0.         0.         0.50980395]\n",
            "  ...\n",
            "  [0.         0.         0.         0.15686275]\n",
            "  [0.         0.         0.         0.15686275]\n",
            "  [0.         0.         0.         0.14901961]]]\n"
          ]
        }
      ]
    },
    {
      "cell_type": "code",
      "source": [
        "# Enlisting the training directories\n",
        "import os\n",
        "\n",
        "training_path = \"/tmp/h-or-s/\"\n",
        "happy_dir = os.path.join(training_path + \"happy\")\n",
        "sad_dir = os.path.join(training_path + \"sad\")\n",
        "\n",
        "\n",
        "# See image names\n",
        "happy_fnames = os.listdir(happy_dir)\n",
        "sad_fnames = os.listdir(sad_dir)\n",
        "\n",
        "print(happy_fnames[:10])\n",
        "print(sad_fnames[:10])\n",
        "\n",
        "# See the number of files\n",
        "print(\"Number of happy images: \", len(happy_fnames))\n",
        "print(\"Number of sad images: \", len(sad_fnames))"
      ],
      "metadata": {
        "id": "EDn1fKtVwOVe",
        "outputId": "0d86476e-5238-4a8d-e8c0-b6e29b2c33ff",
        "colab": {
          "base_uri": "https://localhost:8080/"
        }
      },
      "execution_count": 21,
      "outputs": [
        {
          "output_type": "stream",
          "name": "stdout",
          "text": [
            "['happy1-15.png', 'happy1-09.png', 'happy1-07.png', 'happy1-11.png', 'happy1-17.png', 'happy1-02.png', 'happy1-04.png', 'happy1-19.png', 'happy1-13.png', 'happy2-12.png']\n",
            "['sad2-13.png', 'sad1-03.png', 'sad1-00.png', 'sad1-04.png', 'sad2-00.png', 'sad1-09.png', 'sad1-07.png', 'sad1-15.png', 'sad2-09.png', 'sad1-18.png']\n",
            "Number of happy images:  40\n",
            "Number of sad images:  40\n"
          ]
        }
      ]
    },
    {
      "cell_type": "code",
      "source": [
        "# As the data is unlabelled, using a data generator\n",
        "from tensorflow.keras.preprocessing.image import ImageDataGenerator\n",
        "\n",
        "train_datagen = ImageDataGenerator(rescale=1/255)\n",
        "train_generator = train_datagen.flow_from_directory(\n",
        "    training_path,\n",
        "    target_size=(150,150),\n",
        "    batch_size=16,\n",
        "    class_mode='binary'\n",
        ")\n",
        "\n",
        "# validation_datagen = ImageDataGenerator(rescale=1/255)\n",
        "# validation_generator = validation_datagen.flow_from_directory(\n",
        "#     validation_path,\n",
        "#     target_size=(150, 150, 3),\n",
        "#     batch_size=16,\n",
        "#     class_mode='binary'\n",
        "# )\n"
      ],
      "metadata": {
        "id": "npIP7s8s1QJl",
        "outputId": "77ecf168-1c1d-43e0-a9a4-515363f3dae9",
        "colab": {
          "base_uri": "https://localhost:8080/"
        }
      },
      "execution_count": 33,
      "outputs": [
        {
          "output_type": "stream",
          "name": "stdout",
          "text": [
            "Found 80 images belonging to 2 classes.\n"
          ]
        }
      ]
    },
    {
      "cell_type": "code",
      "source": [
        "import tensorflow as tf\n",
        "\n",
        "model = tf.keras.models.Sequential([\n",
        "    tf.keras.layers.Conv2D(16, (3,3), input_shape=(150,150,3), activation='relu'),\n",
        "    tf.keras.layers.MaxPooling2D(2,2),\n",
        "    tf.keras.layers.Conv2D(32, (3,3), activation='relu'),\n",
        "    tf.keras.layers.MaxPooling2D(2,2),\n",
        "    tf.keras.layers.Conv2D(64, (3,3), activation='relu'),\n",
        "    tf.keras.layers.MaxPooling2D(2,2),\n",
        "    tf.keras.layers.Flatten(),\n",
        "    tf.keras.layers.Dense(512, activation='relu'),\n",
        "    tf.keras.layers.Dense(1, activation='sigmoid')\n",
        "])\n",
        "\n",
        "model.summary()"
      ],
      "metadata": {
        "id": "D0CgG4Fo6ako",
        "outputId": "13824888-4b9c-492c-c201-9421c844473e",
        "colab": {
          "base_uri": "https://localhost:8080/"
        }
      },
      "execution_count": 34,
      "outputs": [
        {
          "output_type": "stream",
          "name": "stdout",
          "text": [
            "Model: \"sequential_2\"\n",
            "_________________________________________________________________\n",
            " Layer (type)                Output Shape              Param #   \n",
            "=================================================================\n",
            " conv2d_6 (Conv2D)           (None, 148, 148, 16)      448       \n",
            "                                                                 \n",
            " max_pooling2d_6 (MaxPoolin  (None, 74, 74, 16)        0         \n",
            " g2D)                                                            \n",
            "                                                                 \n",
            " conv2d_7 (Conv2D)           (None, 72, 72, 32)        4640      \n",
            "                                                                 \n",
            " max_pooling2d_7 (MaxPoolin  (None, 36, 36, 32)        0         \n",
            " g2D)                                                            \n",
            "                                                                 \n",
            " conv2d_8 (Conv2D)           (None, 34, 34, 64)        18496     \n",
            "                                                                 \n",
            " max_pooling2d_8 (MaxPoolin  (None, 17, 17, 64)        0         \n",
            " g2D)                                                            \n",
            "                                                                 \n",
            " flatten_2 (Flatten)         (None, 18496)             0         \n",
            "                                                                 \n",
            " dense_4 (Dense)             (None, 512)               9470464   \n",
            "                                                                 \n",
            " dense_5 (Dense)             (None, 1)                 513       \n",
            "                                                                 \n",
            "=================================================================\n",
            "Total params: 9494561 (36.22 MB)\n",
            "Trainable params: 9494561 (36.22 MB)\n",
            "Non-trainable params: 0 (0.00 Byte)\n",
            "_________________________________________________________________\n"
          ]
        }
      ]
    },
    {
      "cell_type": "code",
      "source": [
        "from tensorflow.keras.optimizers import RMSprop\n",
        "\n",
        "model.compile(\n",
        "    optimizer=RMSprop(lr=0.001),\n",
        "    loss='binary_crossentropy',\n",
        "    metrics=['accuracy']\n",
        ")\n",
        "\n",
        "class myCallback(tf.keras.callbacks.Callback):\n",
        "  def on_epoch_end(self, epoch, logs={}):\n",
        "    if(logs.get('accuracy') > 0.999):\n",
        "      print(\"\\nReached 99.9% accuracy so cancelling training!\")\n",
        "      self.model.stop_training = True\n",
        "\n",
        "callbacks = myCallback()"
      ],
      "metadata": {
        "id": "4e2BQUMA8mqO",
        "outputId": "b2f5f8bd-8651-4fa6-d8c3-8d4750169188",
        "colab": {
          "base_uri": "https://localhost:8080/"
        }
      },
      "execution_count": 35,
      "outputs": [
        {
          "output_type": "stream",
          "name": "stderr",
          "text": [
            "WARNING:absl:`lr` is deprecated in Keras optimizer, please use `learning_rate` or use the legacy optimizer, e.g.,tf.keras.optimizers.legacy.RMSprop.\n"
          ]
        }
      ]
    },
    {
      "cell_type": "code",
      "source": [
        "history = model.fit(\n",
        "    train_generator,\n",
        "    epochs=15,\n",
        "    steps_per_epoch=5,\n",
        "    verbose=1,\n",
        "    callbacks=[callbacks]\n",
        ")"
      ],
      "metadata": {
        "id": "HER7Ys0j9Wei",
        "outputId": "76900414-c912-408a-91b6-d0e4f367d848",
        "colab": {
          "base_uri": "https://localhost:8080/"
        }
      },
      "execution_count": 36,
      "outputs": [
        {
          "output_type": "stream",
          "name": "stdout",
          "text": [
            "Epoch 1/15\n",
            "5/5 [==============================] - 2s 26ms/step - loss: 1.9699 - accuracy: 0.5250\n",
            "Epoch 2/15\n",
            "5/5 [==============================] - 0s 41ms/step - loss: 0.6656 - accuracy: 0.5000\n",
            "Epoch 3/15\n",
            "5/5 [==============================] - 0s 44ms/step - loss: 0.5670 - accuracy: 0.7500\n",
            "Epoch 4/15\n",
            "5/5 [==============================] - 0s 41ms/step - loss: 0.4843 - accuracy: 0.7375\n",
            "Epoch 5/15\n",
            "5/5 [==============================] - 0s 40ms/step - loss: 0.4280 - accuracy: 0.8000\n",
            "Epoch 6/15\n",
            "5/5 [==============================] - 0s 39ms/step - loss: 0.2196 - accuracy: 0.9375\n",
            "Epoch 7/15\n",
            "5/5 [==============================] - 0s 41ms/step - loss: 0.0994 - accuracy: 0.9875\n",
            "Epoch 8/15\n",
            "5/5 [==============================] - 0s 42ms/step - loss: 0.0647 - accuracy: 0.9875\n",
            "Epoch 9/15\n",
            "5/5 [==============================] - 0s 37ms/step - loss: 0.1330 - accuracy: 0.9625\n",
            "Epoch 10/15\n",
            "5/5 [==============================] - ETA: 0s - loss: 0.0235 - accuracy: 1.0000\n",
            "Reached 99.9% accuracy so cancelling training!\n",
            "5/5 [==============================] - 0s 39ms/step - loss: 0.0235 - accuracy: 1.0000\n"
          ]
        }
      ]
    },
    {
      "cell_type": "code",
      "source": [],
      "metadata": {
        "id": "H8dn-Pnk_O7Z"
      },
      "execution_count": null,
      "outputs": []
    }
  ],
  "metadata": {
    "colab": {
      "name": "Exercise 4-Question.ipynb",
      "provenance": [],
      "gpuType": "T4"
    },
    "kernelspec": {
      "display_name": "Python 3",
      "name": "python3"
    },
    "accelerator": "GPU"
  },
  "nbformat": 4,
  "nbformat_minor": 0
}