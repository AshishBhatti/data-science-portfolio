{
  "cells": [
    {
      "cell_type": "code",
      "metadata": {
        "id": "zX4Kg8DUTKWO"
      },
      "source": [
        "#@title Licensed under the Apache License, Version 2.0 (the \"License\");\n",
        "# you may not use this file except in compliance with the License.\n",
        "# You may obtain a copy of the License at\n",
        "#\n",
        "# https://www.apache.org/licenses/LICENSE-2.0\n",
        "#\n",
        "# Unless required by applicable law or agreed to in writing, software\n",
        "# distributed under the License is distributed on an \"AS IS\" BASIS,\n",
        "# WITHOUT WARRANTIES OR CONDITIONS OF ANY KIND, either express or implied.\n",
        "# See the License for the specific language governing permissions and\n",
        "# limitations under the License."
      ],
      "execution_count": null,
      "outputs": []
    },
    {
      "cell_type": "markdown",
      "metadata": {
        "id": "iQjHqsmTAVLU"
      },
      "source": [
        "## Exercise 3\n",
        "In the videos you looked at how you would improve Fashion MNIST using Convolutions. For your exercise see if you can improve MNIST to 99.8% accuracy or more using only a single convolutional layer and a single MaxPooling 2D. You should stop training once the accuracy goes above this amount. It should happen in less than 20 epochs, so it's ok to hard code the number of epochs for training, but your training must end once it hits the above metric. If it doesn't, then you'll need to redesign your layers.\n",
        "\n",
        "I've started the code for you -- you need to finish it!\n",
        "\n",
        "When 99.8% accuracy has been hit, you should print out the string \"Reached 99.8% accuracy so cancelling training!\"\n"
      ]
    },
    {
      "cell_type": "code",
      "execution_count": 1,
      "metadata": {
        "id": "sfQRyaJWAIdg"
      },
      "outputs": [],
      "source": [
        "# import tensorflow as tf\n",
        "\n",
        "# # YOUR CODE STARTS HERE\n",
        "\n",
        "# # YOUR CODE ENDS HERE\n",
        "\n",
        "# mnist = tf.keras.datasets.mnist\n",
        "# (training_images, training_labels), (test_images, test_labels) = mnist.load_data()\n",
        "\n",
        "# # YOUR CODE STARTS HERE\n",
        "\n",
        "# # YOUR CODE ENDS HERE\n",
        "\n",
        "# model = tf.keras.models.Sequential([\n",
        "#     # YOUR CODE STARTS HERE\n",
        "\n",
        "#     # YOUR CODE ENDS HERE\n",
        "# ])\n",
        "\n",
        "# # YOUR CODE STARTS HERE\n",
        "\n",
        "# # YOUR CODE ENDS HERE\n"
      ]
    },
    {
      "cell_type": "code",
      "source": [
        "# importing the libraries\n",
        "import tensorflow as tf\n",
        "from tensorflow import keras\n",
        "\n",
        "# loading the dataset\n",
        "mnist = keras.datasets.mnist\n",
        "(train_images, train_labels), (test_images, test_labels) = mnist.load_data()\n",
        "\n",
        "# preprocessing the dataset\n",
        "train_images = train_images / 255.0    # normalization\n",
        "test_images = test_images / 255.0\n",
        "\n",
        "train_images = train_images.reshape(60000, 28, 28, 1)    # conv layer accepts one tensor\n",
        "test_images = test_images.reshape(10000, 28, 28, 1)\n",
        "\n",
        "# designing the model architecture\n",
        "model = keras.models.Sequential([\n",
        "    # 1 convolutional layer, 1 maxpool, 1 flatten and 2 dense\n",
        "    keras.layers.Conv2D(32, (3,3), input_shape=(28,28,1), activation='relu'),\n",
        "    keras.layers.MaxPooling2D(2,2),\n",
        "    keras.layers.Flatten(),\n",
        "    keras.layers.Dense(128, activation='relu'),\n",
        "    keras.layers.Dense(10, activation='softmax')\n",
        "])\n",
        "\n",
        "# compiling the model\n",
        "model.compile(\n",
        "    loss = 'sparse_categorical_crossentropy',\n",
        "    optimizer='adam',\n",
        "    metrics=['accuracy']\n",
        ")\n",
        "\n",
        "# Defining the callback\n",
        "class myCallback(keras.callbacks.Callback):\n",
        "  def on_epoch_end(self, epoch, logs={}):\n",
        "    if (logs.get('accuracy') > 0.998):\n",
        "      print(\"\\nReached 99.8% accuracy, so cancelling training!\")\n",
        "      self.model.stop_training = True\n",
        "\n",
        "callbacks = myCallback()\n",
        "\n",
        "# training\n",
        "model.fit(train_images, train_labels, epochs=100, callbacks=[callbacks])\n",
        "\n",
        "# testing\n",
        "test_loss, test_acc = model.evaluate(test_images, test_labels)\n",
        "\n",
        "print(test_acc)"
      ],
      "metadata": {
        "id": "SF_qdIWR0AnR",
        "outputId": "709a0338-7cd4-49c3-b8db-bebfdacb101d",
        "colab": {
          "base_uri": "https://localhost:8080/"
        }
      },
      "execution_count": 11,
      "outputs": [
        {
          "output_type": "stream",
          "name": "stdout",
          "text": [
            "Downloading data from https://storage.googleapis.com/tensorflow/tf-keras-datasets/mnist.npz\n",
            "11490434/11490434 [==============================] - 0s 0us/step\n",
            "Epoch 1/100\n",
            "1875/1875 [==============================] - 8s 4ms/step - loss: 0.1514 - accuracy: 0.9550\n",
            "Epoch 2/100\n",
            "1875/1875 [==============================] - 6s 3ms/step - loss: 0.0511 - accuracy: 0.9848\n",
            "Epoch 3/100\n",
            "1875/1875 [==============================] - 7s 4ms/step - loss: 0.0332 - accuracy: 0.9897\n",
            "Epoch 4/100\n",
            "1875/1875 [==============================] - 6s 3ms/step - loss: 0.0216 - accuracy: 0.9934\n",
            "Epoch 5/100\n",
            "1875/1875 [==============================] - 7s 3ms/step - loss: 0.0146 - accuracy: 0.9953\n",
            "Epoch 6/100\n",
            "1875/1875 [==============================] - 6s 3ms/step - loss: 0.0102 - accuracy: 0.9966\n",
            "Epoch 7/100\n",
            "1875/1875 [==============================] - 7s 4ms/step - loss: 0.0079 - accuracy: 0.9976\n",
            "Epoch 8/100\n",
            "1863/1875 [============================>.] - ETA: 0s - loss: 0.0062 - accuracy: 0.9981\n",
            "Reached 99.8% accuracy, so cancelling training!\n",
            "1875/1875 [==============================] - 6s 3ms/step - loss: 0.0061 - accuracy: 0.9981\n",
            "313/313 [==============================] - 1s 3ms/step - loss: 0.0487 - accuracy: 0.9888\n",
            "0.9887999892234802\n"
          ]
        }
      ]
    },
    {
      "cell_type": "code",
      "source": [],
      "metadata": {
        "id": "GT5KjSve5VgG"
      },
      "execution_count": null,
      "outputs": []
    }
  ],
  "metadata": {
    "colab": {
      "name": "Exercise 3 - Question.ipynb",
      "provenance": [],
      "toc_visible": true,
      "gpuType": "T4"
    },
    "kernelspec": {
      "display_name": "Python 3",
      "name": "python3"
    },
    "accelerator": "GPU"
  },
  "nbformat": 4,
  "nbformat_minor": 0
}