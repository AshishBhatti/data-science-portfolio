{
 "cells": [
  {
   "cell_type": "markdown",
   "metadata": {
    "id": "SdpV2X40kPLE"
   },
   "source": [
    "# Assignment 1\n",
    "\n",
    "**Situation**: To get familiar with data analysis and visualizarion techniques.\\\n",
    "**Dataset**: weights-heights.csv,  containing height, weight & gender \\\n",
    "**Tasks**:\n",
    "\n",
    "1.   Visualize the data by creating scatter plots of the data. Write your observations about the data.\n",
    "2.   Do One Hot Encoding of the nominal predictor. How many predictors do you have now?\n",
    "3.   Apply Standardization to real value predictors.\n",
    "4.   Create scatter plots of the transformed data. Write your observations about the data.\n",
    "5. Create heat map to visualize the correlation between all variable pairs.\n",
    "6. There are no missing values in this data. Randomly delete some of the data and apply various methods to handle missing values.\n",
    "7. Identify skewness in the data and apply transformation if required.\n",
    "8. Does the data have outliers? Identify and remove outliers.\n",
    "9. Transform height into Short, Medium and Tall categories using equal frequency and equal width bins. Write your observations."
   ]
  },
  {
   "cell_type": "markdown",
   "metadata": {
    "id": "jTRpMVlemVvn"
   },
   "source": [
    "## 1. Visualization\n",
    "\\\n",
    "Firstly loading the data and viewing the first 5 entries."
   ]
  },
  {
   "cell_type": "code",
   "execution_count": 1,
   "metadata": {
    "colab": {
     "base_uri": "https://localhost:8080/",
     "height": 380
    },
    "executionInfo": {
     "elapsed": 15,
     "status": "error",
     "timestamp": 1676935178698,
     "user": {
      "displayName": "Ashish Kumar",
      "userId": "12483090333487458159"
     },
     "user_tz": -330
    },
    "id": "i2aXm4B7mDDI",
    "outputId": "a73e012d-37dc-4dff-eff8-ddf1ac806036"
   },
   "outputs": [
    {
     "data": {
      "text/html": [
       "<div>\n",
       "<style scoped>\n",
       "    .dataframe tbody tr th:only-of-type {\n",
       "        vertical-align: middle;\n",
       "    }\n",
       "\n",
       "    .dataframe tbody tr th {\n",
       "        vertical-align: top;\n",
       "    }\n",
       "\n",
       "    .dataframe thead th {\n",
       "        text-align: right;\n",
       "    }\n",
       "</style>\n",
       "<table border=\"1\" class=\"dataframe\">\n",
       "  <thead>\n",
       "    <tr style=\"text-align: right;\">\n",
       "      <th></th>\n",
       "      <th>Gender</th>\n",
       "      <th>Height</th>\n",
       "      <th>Weight</th>\n",
       "    </tr>\n",
       "  </thead>\n",
       "  <tbody>\n",
       "    <tr>\n",
       "      <th>0</th>\n",
       "      <td>Male</td>\n",
       "      <td>73.847017</td>\n",
       "      <td>241.893563</td>\n",
       "    </tr>\n",
       "    <tr>\n",
       "      <th>1</th>\n",
       "      <td>Male</td>\n",
       "      <td>68.781904</td>\n",
       "      <td>162.310473</td>\n",
       "    </tr>\n",
       "    <tr>\n",
       "      <th>2</th>\n",
       "      <td>Male</td>\n",
       "      <td>74.110105</td>\n",
       "      <td>NaN</td>\n",
       "    </tr>\n",
       "    <tr>\n",
       "      <th>3</th>\n",
       "      <td>Male</td>\n",
       "      <td>71.730978</td>\n",
       "      <td>NaN</td>\n",
       "    </tr>\n",
       "    <tr>\n",
       "      <th>4</th>\n",
       "      <td>Male</td>\n",
       "      <td>69.881796</td>\n",
       "      <td>NaN</td>\n",
       "    </tr>\n",
       "  </tbody>\n",
       "</table>\n",
       "</div>"
      ],
      "text/plain": [
       "  Gender     Height      Weight\n",
       "0   Male  73.847017  241.893563\n",
       "1   Male  68.781904  162.310473\n",
       "2   Male  74.110105         NaN\n",
       "3   Male  71.730978         NaN\n",
       "4   Male  69.881796         NaN"
      ]
     },
     "execution_count": 1,
     "metadata": {},
     "output_type": "execute_result"
    }
   ],
   "source": [
    "# importing libraries\n",
    "import numpy as np\n",
    "import pandas as pd\n",
    "import matplotlib.pyplot as plt\n",
    "%matplotlib inline\n",
    "\n",
    "# loading the dataset, note pandas is used to load csv file\n",
    "df = pd.read_csv('weight-height.csv')\n",
    "df.head()"
   ]
  },
  {
   "cell_type": "code",
   "execution_count": 2,
   "metadata": {},
   "outputs": [
    {
     "name": "stdout",
     "output_type": "stream",
     "text": [
      "(10000, 3)\n"
     ]
    }
   ],
   "source": [
    "# Observe shape of dataset, note shape is not a method\n",
    "\n",
    "print(df.shape)     "
   ]
  },
  {
   "cell_type": "code",
   "execution_count": 3,
   "metadata": {},
   "outputs": [
    {
     "data": {
      "text/plain": [
       "Gender    47\n",
       "Height    70\n",
       "Weight    82\n",
       "dtype: int64"
      ]
     },
     "execution_count": 3,
     "metadata": {},
     "output_type": "execute_result"
    }
   ],
   "source": [
    "# Count the missing values in dataset, \n",
    "\n",
    "# df.isnull() returns a dataframe of the same shape as df, \n",
    "# but with True and False values, True in place of Null values, all else are false.\n",
    "# .sum() returns the sum columnwise. Boolean True is treated as 1.\n",
    "\n",
    "df.isnull().sum()   "
   ]
  },
  {
   "cell_type": "code",
   "execution_count": 4,
   "metadata": {},
   "outputs": [
    {
     "name": "stdout",
     "output_type": "stream",
     "text": [
      "<class 'pandas.core.frame.DataFrame'>\n",
      "RangeIndex: 10000 entries, 0 to 9999\n",
      "Data columns (total 3 columns):\n",
      " #   Column  Non-Null Count  Dtype  \n",
      "---  ------  --------------  -----  \n",
      " 0   Gender  9953 non-null   object \n",
      " 1   Height  9930 non-null   float64\n",
      " 2   Weight  9918 non-null   float64\n",
      "dtypes: float64(2), object(1)\n",
      "memory usage: 234.5+ KB\n"
     ]
    }
   ],
   "source": [
    "df.info()           # To see the datatypes and the count of non-null values columnwise"
   ]
  },
  {
   "cell_type": "markdown",
   "metadata": {},
   "source": [
    "**Observations**\n",
    "1. The dataset has 10000 rows of 3 columns each. This means we have 10000 feature vectors of 3 features each.\n",
    "2. There are missing values in all the columns, but the missing values are very less as compared to the non-null values.\n",
    "3. Height and Weight are stored as float64 numbers, but Gender has categorical values.\n",
    "\n",
    "\n",
    "As the null values are very less in number as compared to the non-values. We can use dropping the rows in order to handle null values.\n",
    "- We drop the rows in Gender column, because categorical missing values do not make much sense in scatter plot\n",
    "- But keep the ones with numerical missing values. **Because scatter plot can handle missing values.**"
   ]
  },
  {
   "cell_type": "code",
   "execution_count": 5,
   "metadata": {},
   "outputs": [],
   "source": [
    "''' \n",
    "For dropping the rows with null value, we will have to mark those rows.\n",
    ".isnull() marks all null values as True. ~ negates it.\n",
    "Hence, to mark all non-null values in Gender as True, we have to.\n",
    "~df['Gender'].isnull() \n",
    "\n",
    "Now to drop all the values marked as false in above, i.e. null values \n",
    "df[~df['Gender'].isnull()]\n",
    "''';"
   ]
  },
  {
   "cell_type": "code",
   "execution_count": 6,
   "metadata": {},
   "outputs": [
    {
     "name": "stdout",
     "output_type": "stream",
     "text": [
      "Gender     0\n",
      "Height    70\n",
      "Weight    82\n",
      "dtype: int64\n"
     ]
    },
    {
     "data": {
      "text/html": [
       "<div>\n",
       "<style scoped>\n",
       "    .dataframe tbody tr th:only-of-type {\n",
       "        vertical-align: middle;\n",
       "    }\n",
       "\n",
       "    .dataframe tbody tr th {\n",
       "        vertical-align: top;\n",
       "    }\n",
       "\n",
       "    .dataframe thead th {\n",
       "        text-align: right;\n",
       "    }\n",
       "</style>\n",
       "<table border=\"1\" class=\"dataframe\">\n",
       "  <thead>\n",
       "    <tr style=\"text-align: right;\">\n",
       "      <th></th>\n",
       "      <th>Gender</th>\n",
       "      <th>Height</th>\n",
       "      <th>Weight</th>\n",
       "    </tr>\n",
       "  </thead>\n",
       "  <tbody>\n",
       "    <tr>\n",
       "      <th>0</th>\n",
       "      <td>Male</td>\n",
       "      <td>73.847017</td>\n",
       "      <td>241.893563</td>\n",
       "    </tr>\n",
       "    <tr>\n",
       "      <th>1</th>\n",
       "      <td>Male</td>\n",
       "      <td>68.781904</td>\n",
       "      <td>162.310473</td>\n",
       "    </tr>\n",
       "    <tr>\n",
       "      <th>2</th>\n",
       "      <td>Male</td>\n",
       "      <td>74.110105</td>\n",
       "      <td>NaN</td>\n",
       "    </tr>\n",
       "    <tr>\n",
       "      <th>3</th>\n",
       "      <td>Male</td>\n",
       "      <td>71.730978</td>\n",
       "      <td>NaN</td>\n",
       "    </tr>\n",
       "    <tr>\n",
       "      <th>4</th>\n",
       "      <td>Male</td>\n",
       "      <td>69.881796</td>\n",
       "      <td>NaN</td>\n",
       "    </tr>\n",
       "    <tr>\n",
       "      <th>...</th>\n",
       "      <td>...</td>\n",
       "      <td>...</td>\n",
       "      <td>...</td>\n",
       "    </tr>\n",
       "    <tr>\n",
       "      <th>9993</th>\n",
       "      <td>Female</td>\n",
       "      <td>60.030434</td>\n",
       "      <td>97.687432</td>\n",
       "    </tr>\n",
       "    <tr>\n",
       "      <th>9994</th>\n",
       "      <td>Female</td>\n",
       "      <td>59.098250</td>\n",
       "      <td>110.529686</td>\n",
       "    </tr>\n",
       "    <tr>\n",
       "      <th>9997</th>\n",
       "      <td>Female</td>\n",
       "      <td>63.867992</td>\n",
       "      <td>128.475319</td>\n",
       "    </tr>\n",
       "    <tr>\n",
       "      <th>9998</th>\n",
       "      <td>Female</td>\n",
       "      <td>69.034243</td>\n",
       "      <td>163.852461</td>\n",
       "    </tr>\n",
       "    <tr>\n",
       "      <th>9999</th>\n",
       "      <td>Female</td>\n",
       "      <td>61.944246</td>\n",
       "      <td>113.649103</td>\n",
       "    </tr>\n",
       "  </tbody>\n",
       "</table>\n",
       "<p>9953 rows × 3 columns</p>\n",
       "</div>"
      ],
      "text/plain": [
       "      Gender     Height      Weight\n",
       "0       Male  73.847017  241.893563\n",
       "1       Male  68.781904  162.310473\n",
       "2       Male  74.110105         NaN\n",
       "3       Male  71.730978         NaN\n",
       "4       Male  69.881796         NaN\n",
       "...      ...        ...         ...\n",
       "9993  Female  60.030434   97.687432\n",
       "9994  Female  59.098250  110.529686\n",
       "9997  Female  63.867992  128.475319\n",
       "9998  Female  69.034243  163.852461\n",
       "9999  Female  61.944246  113.649103\n",
       "\n",
       "[9953 rows x 3 columns]"
      ]
     },
     "execution_count": 6,
     "metadata": {},
     "output_type": "execute_result"
    }
   ],
   "source": [
    "# Dropping rows with missing values in Gender column\n",
    "\n",
    "dfNew = df[~df['Gender'].isnull()]\n",
    "print(dfNew.isnull().sum())\n",
    "dfNew"
   ]
  },
  {
   "cell_type": "code",
   "execution_count": 7,
   "metadata": {},
   "outputs": [
    {
     "data": {
      "image/png": "[encoded data removed]",
      "text/plain": [
       "<Figure size 640x480 with 1 Axes>"
      ]
     },
     "metadata": {},
     "output_type": "display_data"
    }
   ],
   "source": [
    "dfNew.plot(kind='scatter',x='Height',y='Weight')\n",
    "plt.show()"
   ]
  },
  {
   "cell_type": "markdown",
   "metadata": {},
   "source": [
    "**Observations**\n",
    "1. Height and weight appear to be linearly dependent.\n",
    "2. But we can not infer the effects of gender.\n",
    "\n",
    "Hence we plot points belonging to different gender in different colour."
   ]
  },
  {
   "cell_type": "code",
   "execution_count": 8,
   "metadata": {},
   "outputs": [
    {
     "data": {
      "image/png": "[encoded data removed]",
      "text/plain": [
       "<Figure size 696.25x600 with 1 Axes>"
      ]
     },
     "metadata": {},
     "output_type": "display_data"
    }
   ],
   "source": [
    "# using seaborn's FacetGrid with hue argument to mark Genders separately\n",
    "import seaborn as sns\n",
    "import warnings\n",
    "warnings.filterwarnings('ignore')  #used to ignore warnings while executing\n",
    "\n",
    "sns.set_style('whitegrid');        # sets the background grid\n",
    "sns.FacetGrid(dfNew,hue='Gender',height=6)\\\n",
    "   .map(plt.scatter,'Height','Weight')\\\n",
    "   .add_legend()\n",
    "plt.show()"
   ]
  },
  {
   "cell_type": "markdown",
   "metadata": {},
   "source": [
    "### Final Observations\n",
    "1. Height and Weight are directly proportional in both cases.\n",
    "2. Points of different genders are clustered together, but there is overlap.\n",
    "\n",
    "\n",
    "## 2. Do One Hot Encoding of the nominal predictor\n",
    "\n",
    "In one hot encoding we encode the catergorical values to binary values."
   ]
  },
  {
   "cell_type": "code",
   "execution_count": 9,
   "metadata": {},
   "outputs": [
    {
     "data": {
      "text/html": [
       "<div>\n",
       "<style scoped>\n",
       "    .dataframe tbody tr th:only-of-type {\n",
       "        vertical-align: middle;\n",
       "    }\n",
       "\n",
       "    .dataframe tbody tr th {\n",
       "        vertical-align: top;\n",
       "    }\n",
       "\n",
       "    .dataframe thead th {\n",
       "        text-align: right;\n",
       "    }\n",
       "</style>\n",
       "<table border=\"1\" class=\"dataframe\">\n",
       "  <thead>\n",
       "    <tr style=\"text-align: right;\">\n",
       "      <th></th>\n",
       "      <th>Height</th>\n",
       "      <th>Weight</th>\n",
       "      <th>Female</th>\n",
       "      <th>Male</th>\n",
       "    </tr>\n",
       "  </thead>\n",
       "  <tbody>\n",
       "    <tr>\n",
       "      <th>0</th>\n",
       "      <td>73.847017</td>\n",
       "      <td>241.893563</td>\n",
       "      <td>0</td>\n",
       "      <td>1</td>\n",
       "    </tr>\n",
       "    <tr>\n",
       "      <th>1</th>\n",
       "      <td>68.781904</td>\n",
       "      <td>162.310473</td>\n",
       "      <td>0</td>\n",
       "      <td>1</td>\n",
       "    </tr>\n",
       "    <tr>\n",
       "      <th>2</th>\n",
       "      <td>74.110105</td>\n",
       "      <td>NaN</td>\n",
       "      <td>0</td>\n",
       "      <td>1</td>\n",
       "    </tr>\n",
       "    <tr>\n",
       "      <th>3</th>\n",
       "      <td>71.730978</td>\n",
       "      <td>NaN</td>\n",
       "      <td>0</td>\n",
       "      <td>1</td>\n",
       "    </tr>\n",
       "    <tr>\n",
       "      <th>4</th>\n",
       "      <td>69.881796</td>\n",
       "      <td>NaN</td>\n",
       "      <td>0</td>\n",
       "      <td>1</td>\n",
       "    </tr>\n",
       "    <tr>\n",
       "      <th>...</th>\n",
       "      <td>...</td>\n",
       "      <td>...</td>\n",
       "      <td>...</td>\n",
       "      <td>...</td>\n",
       "    </tr>\n",
       "    <tr>\n",
       "      <th>9993</th>\n",
       "      <td>60.030434</td>\n",
       "      <td>97.687432</td>\n",
       "      <td>1</td>\n",
       "      <td>0</td>\n",
       "    </tr>\n",
       "    <tr>\n",
       "      <th>9994</th>\n",
       "      <td>59.098250</td>\n",
       "      <td>110.529686</td>\n",
       "      <td>1</td>\n",
       "      <td>0</td>\n",
       "    </tr>\n",
       "    <tr>\n",
       "      <th>9997</th>\n",
       "      <td>63.867992</td>\n",
       "      <td>128.475319</td>\n",
       "      <td>1</td>\n",
       "      <td>0</td>\n",
       "    </tr>\n",
       "    <tr>\n",
       "      <th>9998</th>\n",
       "      <td>69.034243</td>\n",
       "      <td>163.852461</td>\n",
       "      <td>1</td>\n",
       "      <td>0</td>\n",
       "    </tr>\n",
       "    <tr>\n",
       "      <th>9999</th>\n",
       "      <td>61.944246</td>\n",
       "      <td>113.649103</td>\n",
       "      <td>1</td>\n",
       "      <td>0</td>\n",
       "    </tr>\n",
       "  </tbody>\n",
       "</table>\n",
       "<p>9953 rows × 4 columns</p>\n",
       "</div>"
      ],
      "text/plain": [
       "         Height      Weight  Female  Male\n",
       "0     73.847017  241.893563       0     1\n",
       "1     68.781904  162.310473       0     1\n",
       "2     74.110105         NaN       0     1\n",
       "3     71.730978         NaN       0     1\n",
       "4     69.881796         NaN       0     1\n",
       "...         ...         ...     ...   ...\n",
       "9993  60.030434   97.687432       1     0\n",
       "9994  59.098250  110.529686       1     0\n",
       "9997  63.867992  128.475319       1     0\n",
       "9998  69.034243  163.852461       1     0\n",
       "9999  61.944246  113.649103       1     0\n",
       "\n",
       "[9953 rows x 4 columns]"
      ]
     },
     "execution_count": 9,
     "metadata": {},
     "output_type": "execute_result"
    }
   ],
   "source": [
    "# pd.get_dummies() converts categorical data into dummies or indicators\n",
    "oheValues = pd.get_dummies(dfNew['Gender'])   # One Hot Encoding Gender \n",
    "hwValues = dfNew.drop('Gender',axis=1)\n",
    "oheDF = hwValues.join(oheValues)\n",
    "oheDF         # This oheDF dataframe has 4 predictor variables: Height, Weight, Female, Male"
   ]
  },
  {
   "cell_type": "markdown",
   "metadata": {},
   "source": [
    "### We have 4 predictors now\n",
    "1. Height\n",
    "2. Weight\n",
    "3. Female\n",
    "4. Male\n",
    "\n",
    "\n",
    "## 3. Apply Standardization to real value predictors\n",
    "\n",
    "Standardization and normalization are techniques of **feature scaling**. Feature scaling is important data pre-processing step in ML. It scales the features such that the features with larger values do not overpower the ones with smaller ranges.\n",
    "\n",
    "- Standardization: Mean-Std dev scaling\n",
    "- Normalization: Min-max scaling\n",
    "\n",
    "\n",
    "| # |  Normalization                                          | Standardization                                           |\n",
    "|---|---------------------------------------------------------|-----------------------------------------------------------|\n",
    "| 1 | Minimum & Maximum values of features, used for scaling. | Mean and std deviation is used for scaling.               |\n",
    "| 2 | Used when features are of different scale.              | Used when we want to ensure zero mean and unit deviation. |\n",
    "| 3 | Scales values between [0,1] or [-1,1].                  | Not bound to a certain range.                             |\n",
    "| 4 | Affected by outliers.                                   | Much less affected by outliers .                          |\n",
    "| 5 | Scikit learn provides a tranformer called MinMaxScaler. | Scikit learn provides a transformer called StandardScaler.|\n",
    "\n",
    "\n",
    "\n"
   ]
  },
  {
   "cell_type": "code",
   "execution_count": 37,
   "metadata": {},
   "outputs": [
    {
     "data": {
      "text/html": [
       "<div>\n",
       "<style scoped>\n",
       "    .dataframe tbody tr th:only-of-type {\n",
       "        vertical-align: middle;\n",
       "    }\n",
       "\n",
       "    .dataframe tbody tr th {\n",
       "        vertical-align: top;\n",
       "    }\n",
       "\n",
       "    .dataframe thead th {\n",
       "        text-align: right;\n",
       "    }\n",
       "</style>\n",
       "<table border=\"1\" class=\"dataframe\">\n",
       "  <thead>\n",
       "    <tr style=\"text-align: right;\">\n",
       "      <th></th>\n",
       "      <th>Height</th>\n",
       "      <th>Weight</th>\n",
       "      <th>Male</th>\n",
       "      <th>Female</th>\n",
       "    </tr>\n",
       "  </thead>\n",
       "  <tbody>\n",
       "    <tr>\n",
       "      <th>0</th>\n",
       "      <td>1.942295</td>\n",
       "      <td>2.514072</td>\n",
       "      <td>1.0</td>\n",
       "      <td>0.0</td>\n",
       "    </tr>\n",
       "    <tr>\n",
       "      <th>1</th>\n",
       "      <td>0.626277</td>\n",
       "      <td>0.032993</td>\n",
       "      <td>1.0</td>\n",
       "      <td>0.0</td>\n",
       "    </tr>\n",
       "    <tr>\n",
       "      <th>2</th>\n",
       "      <td>2.010651</td>\n",
       "      <td>NaN</td>\n",
       "      <td>1.0</td>\n",
       "      <td>0.0</td>\n",
       "    </tr>\n",
       "    <tr>\n",
       "      <th>3</th>\n",
       "      <td>1.392506</td>\n",
       "      <td>NaN</td>\n",
       "      <td>1.0</td>\n",
       "      <td>0.0</td>\n",
       "    </tr>\n",
       "    <tr>\n",
       "      <th>4</th>\n",
       "      <td>0.912051</td>\n",
       "      <td>NaN</td>\n",
       "      <td>1.0</td>\n",
       "      <td>0.0</td>\n",
       "    </tr>\n",
       "    <tr>\n",
       "      <th>...</th>\n",
       "      <td>...</td>\n",
       "      <td>...</td>\n",
       "      <td>...</td>\n",
       "      <td>...</td>\n",
       "    </tr>\n",
       "    <tr>\n",
       "      <th>9948</th>\n",
       "      <td>-1.647531</td>\n",
       "      <td>-1.981693</td>\n",
       "      <td>0.0</td>\n",
       "      <td>1.0</td>\n",
       "    </tr>\n",
       "    <tr>\n",
       "      <th>9949</th>\n",
       "      <td>-1.889731</td>\n",
       "      <td>-1.581323</td>\n",
       "      <td>0.0</td>\n",
       "      <td>1.0</td>\n",
       "    </tr>\n",
       "    <tr>\n",
       "      <th>9950</th>\n",
       "      <td>-0.650456</td>\n",
       "      <td>-1.021851</td>\n",
       "      <td>0.0</td>\n",
       "      <td>1.0</td>\n",
       "    </tr>\n",
       "    <tr>\n",
       "      <th>9951</th>\n",
       "      <td>0.691840</td>\n",
       "      <td>0.081066</td>\n",
       "      <td>0.0</td>\n",
       "      <td>1.0</td>\n",
       "    </tr>\n",
       "    <tr>\n",
       "      <th>9952</th>\n",
       "      <td>-1.150284</td>\n",
       "      <td>-1.484072</td>\n",
       "      <td>0.0</td>\n",
       "      <td>1.0</td>\n",
       "    </tr>\n",
       "  </tbody>\n",
       "</table>\n",
       "<p>9953 rows × 4 columns</p>\n",
       "</div>"
      ],
      "text/plain": [
       "        Height    Weight  Male  Female\n",
       "0     1.942295  2.514072   1.0     0.0\n",
       "1     0.626277  0.032993   1.0     0.0\n",
       "2     2.010651       NaN   1.0     0.0\n",
       "3     1.392506       NaN   1.0     0.0\n",
       "4     0.912051       NaN   1.0     0.0\n",
       "...        ...       ...   ...     ...\n",
       "9948 -1.647531 -1.981693   0.0     1.0\n",
       "9949 -1.889731 -1.581323   0.0     1.0\n",
       "9950 -0.650456 -1.021851   0.0     1.0\n",
       "9951  0.691840  0.081066   0.0     1.0\n",
       "9952 -1.150284 -1.484072   0.0     1.0\n",
       "\n",
       "[9953 rows x 4 columns]"
      ]
     },
     "execution_count": 37,
     "metadata": {},
     "output_type": "execute_result"
    }
   ],
   "source": [
    "# # Applying Normalization\n",
    "# from sklearn.preprocessing import MinMaxScaler\n",
    "# scale = MinMaxScaler()\n",
    "# scale.fit(oheDF)\n",
    "# scaledDF = scale.transform(oheDF)\n",
    "# scaledDF = pd.DataFrame(scaledDF, columns=oheDF.columns)\n",
    "\n",
    "# scaledDF = scaledDF[['Height','Weight']].join(oheDF[['Male','Female']])\n",
    "\n",
    "\n",
    "\n",
    "# Applying Standardization\n",
    "from sklearn.preprocessing import StandardScaler\n",
    "scale = StandardScaler()\n",
    "scale.fit(oheDF)\n",
    "standardDF = scale.transform(oheDF)\n",
    "standardDF = pd.DataFrame(standardDF, columns=oheDF.columns)\n",
    "\n",
    "standardDF = standardDF[['Height','Weight']].join(oheDF[['Male','Female']])\n",
    "\n",
    "\n",
    "\n",
    "# scaledDF    # normalized\n",
    "standardDF  # standardized"
   ]
  },
  {
   "cell_type": "markdown",
   "metadata": {},
   "source": [
    "## 4. Scatter Plot of transformed data"
   ]
  },
  {
   "cell_type": "code",
   "execution_count": 38,
   "metadata": {},
   "outputs": [
    {
     "data": {
      "image/png": "[encoded data removed]",
      "text/plain": [
       "<Figure size 640x480 with 1 Axes>"
      ]
     },
     "metadata": {},
     "output_type": "display_data"
    }
   ],
   "source": [
    "standardDF.plot(kind='scatter',x='Height',y='Weight')\n",
    "plt.show()"
   ]
  },
  {
   "cell_type": "markdown",
   "metadata": {},
   "source": [
    "## 5. Create heat map to visualize correlation between all variable pairs"
   ]
  },
  {
   "cell_type": "code",
   "execution_count": 39,
   "metadata": {},
   "outputs": [
    {
     "data": {
      "image/png": "[encoded data removed]",
      "text/plain": [
       "<Figure size 640x480 with 2 Axes>"
      ]
     },
     "metadata": {},
     "output_type": "display_data"
    }
   ],
   "source": [
    "import seaborn as sb\n",
    "import matplotlib.pyplot as plt\n",
    "dataplot = sb.heatmap(standardDF.corr(), cmap=\"YlGnBu\", annot=True)\n",
    "plt.show()"
   ]
  },
  {
   "cell_type": "markdown",
   "metadata": {},
   "source": [
    "## 6. Handling Missing values\n",
    "\n",
    "We saw earlier that there are missing values in dataset. We also saw that the number of missing values is less.\n",
    "\n",
    "To handle the missing values: \n",
    "1. we can delete all null rows\n",
    "2. we call fill missing values with mean"
   ]
  },
  {
   "cell_type": "code",
   "execution_count": 42,
   "metadata": {},
   "outputs": [
    {
     "data": {
      "text/plain": [
       "Height    70\n",
       "Weight    82\n",
       "Male      34\n",
       "Female    34\n",
       "dtype: int64"
      ]
     },
     "execution_count": 42,
     "metadata": {},
     "output_type": "execute_result"
    }
   ],
   "source": [
    "standardDF.isnull().sum()  # we can see that there are missing values in both height and weight columns"
   ]
  },
  {
   "cell_type": "code",
   "execution_count": 43,
   "metadata": {},
   "outputs": [
    {
     "data": {
      "text/html": [
       "<div>\n",
       "<style scoped>\n",
       "    .dataframe tbody tr th:only-of-type {\n",
       "        vertical-align: middle;\n",
       "    }\n",
       "\n",
       "    .dataframe tbody tr th {\n",
       "        vertical-align: top;\n",
       "    }\n",
       "\n",
       "    .dataframe thead th {\n",
       "        text-align: right;\n",
       "    }\n",
       "</style>\n",
       "<table border=\"1\" class=\"dataframe\">\n",
       "  <thead>\n",
       "    <tr style=\"text-align: right;\">\n",
       "      <th></th>\n",
       "      <th>Height</th>\n",
       "      <th>Weight</th>\n",
       "      <th>Male</th>\n",
       "      <th>Female</th>\n",
       "    </tr>\n",
       "  </thead>\n",
       "  <tbody>\n",
       "    <tr>\n",
       "      <th>0</th>\n",
       "      <td>1.942295</td>\n",
       "      <td>2.514072</td>\n",
       "      <td>1.0</td>\n",
       "      <td>0.0</td>\n",
       "    </tr>\n",
       "    <tr>\n",
       "      <th>1</th>\n",
       "      <td>0.626277</td>\n",
       "      <td>0.032993</td>\n",
       "      <td>1.0</td>\n",
       "      <td>0.0</td>\n",
       "    </tr>\n",
       "    <tr>\n",
       "      <th>5</th>\n",
       "      <td>0.229041</td>\n",
       "      <td>-0.281832</td>\n",
       "      <td>1.0</td>\n",
       "      <td>0.0</td>\n",
       "    </tr>\n",
       "    <tr>\n",
       "      <th>6</th>\n",
       "      <td>0.627103</td>\n",
       "      <td>0.706937</td>\n",
       "      <td>1.0</td>\n",
       "      <td>0.0</td>\n",
       "    </tr>\n",
       "    <tr>\n",
       "      <th>7</th>\n",
       "      <td>0.513674</td>\n",
       "      <td>0.209469</td>\n",
       "      <td>1.0</td>\n",
       "      <td>0.0</td>\n",
       "    </tr>\n",
       "    <tr>\n",
       "      <th>...</th>\n",
       "      <td>...</td>\n",
       "      <td>...</td>\n",
       "      <td>...</td>\n",
       "      <td>...</td>\n",
       "    </tr>\n",
       "    <tr>\n",
       "      <th>9948</th>\n",
       "      <td>-1.647531</td>\n",
       "      <td>-1.981693</td>\n",
       "      <td>0.0</td>\n",
       "      <td>1.0</td>\n",
       "    </tr>\n",
       "    <tr>\n",
       "      <th>9949</th>\n",
       "      <td>-1.889731</td>\n",
       "      <td>-1.581323</td>\n",
       "      <td>0.0</td>\n",
       "      <td>1.0</td>\n",
       "    </tr>\n",
       "    <tr>\n",
       "      <th>9950</th>\n",
       "      <td>-0.650456</td>\n",
       "      <td>-1.021851</td>\n",
       "      <td>0.0</td>\n",
       "      <td>1.0</td>\n",
       "    </tr>\n",
       "    <tr>\n",
       "      <th>9951</th>\n",
       "      <td>0.691840</td>\n",
       "      <td>0.081066</td>\n",
       "      <td>0.0</td>\n",
       "      <td>1.0</td>\n",
       "    </tr>\n",
       "    <tr>\n",
       "      <th>9952</th>\n",
       "      <td>-1.150284</td>\n",
       "      <td>-1.484072</td>\n",
       "      <td>0.0</td>\n",
       "      <td>1.0</td>\n",
       "    </tr>\n",
       "  </tbody>\n",
       "</table>\n",
       "<p>9767 rows × 4 columns</p>\n",
       "</div>"
      ],
      "text/plain": [
       "        Height    Weight  Male  Female\n",
       "0     1.942295  2.514072   1.0     0.0\n",
       "1     0.626277  0.032993   1.0     0.0\n",
       "5     0.229041 -0.281832   1.0     0.0\n",
       "6     0.627103  0.706937   1.0     0.0\n",
       "7     0.513674  0.209469   1.0     0.0\n",
       "...        ...       ...   ...     ...\n",
       "9948 -1.647531 -1.981693   0.0     1.0\n",
       "9949 -1.889731 -1.581323   0.0     1.0\n",
       "9950 -0.650456 -1.021851   0.0     1.0\n",
       "9951  0.691840  0.081066   0.0     1.0\n",
       "9952 -1.150284 -1.484072   0.0     1.0\n",
       "\n",
       "[9767 rows x 4 columns]"
      ]
     },
     "execution_count": 43,
     "metadata": {},
     "output_type": "execute_result"
    }
   ],
   "source": [
    "# Dropping rows with missing values\n",
    "df1 = standardDF.dropna(axis=0)\n",
    "df1"
   ]
  },
  {
   "cell_type": "code",
   "execution_count": 44,
   "metadata": {},
   "outputs": [
    {
     "data": {
      "text/html": [
       "<div>\n",
       "<style scoped>\n",
       "    .dataframe tbody tr th:only-of-type {\n",
       "        vertical-align: middle;\n",
       "    }\n",
       "\n",
       "    .dataframe tbody tr th {\n",
       "        vertical-align: top;\n",
       "    }\n",
       "\n",
       "    .dataframe thead th {\n",
       "        text-align: right;\n",
       "    }\n",
       "</style>\n",
       "<table border=\"1\" class=\"dataframe\">\n",
       "  <thead>\n",
       "    <tr style=\"text-align: right;\">\n",
       "      <th></th>\n",
       "      <th>Height</th>\n",
       "      <th>Weight</th>\n",
       "      <th>Male</th>\n",
       "      <th>Female</th>\n",
       "    </tr>\n",
       "  </thead>\n",
       "  <tbody>\n",
       "    <tr>\n",
       "      <th>0</th>\n",
       "      <td>1.942295</td>\n",
       "      <td>2.514072e+00</td>\n",
       "      <td>1.0</td>\n",
       "      <td>0.0</td>\n",
       "    </tr>\n",
       "    <tr>\n",
       "      <th>1</th>\n",
       "      <td>0.626277</td>\n",
       "      <td>3.299280e-02</td>\n",
       "      <td>1.0</td>\n",
       "      <td>0.0</td>\n",
       "    </tr>\n",
       "    <tr>\n",
       "      <th>2</th>\n",
       "      <td>2.010651</td>\n",
       "      <td>1.612416e-16</td>\n",
       "      <td>1.0</td>\n",
       "      <td>0.0</td>\n",
       "    </tr>\n",
       "    <tr>\n",
       "      <th>3</th>\n",
       "      <td>1.392506</td>\n",
       "      <td>1.612416e-16</td>\n",
       "      <td>1.0</td>\n",
       "      <td>0.0</td>\n",
       "    </tr>\n",
       "    <tr>\n",
       "      <th>4</th>\n",
       "      <td>0.912051</td>\n",
       "      <td>1.612416e-16</td>\n",
       "      <td>1.0</td>\n",
       "      <td>0.0</td>\n",
       "    </tr>\n",
       "    <tr>\n",
       "      <th>...</th>\n",
       "      <td>...</td>\n",
       "      <td>...</td>\n",
       "      <td>...</td>\n",
       "      <td>...</td>\n",
       "    </tr>\n",
       "    <tr>\n",
       "      <th>9948</th>\n",
       "      <td>-1.647531</td>\n",
       "      <td>-1.981693e+00</td>\n",
       "      <td>0.0</td>\n",
       "      <td>1.0</td>\n",
       "    </tr>\n",
       "    <tr>\n",
       "      <th>9949</th>\n",
       "      <td>-1.889731</td>\n",
       "      <td>-1.581323e+00</td>\n",
       "      <td>0.0</td>\n",
       "      <td>1.0</td>\n",
       "    </tr>\n",
       "    <tr>\n",
       "      <th>9950</th>\n",
       "      <td>-0.650456</td>\n",
       "      <td>-1.021851e+00</td>\n",
       "      <td>0.0</td>\n",
       "      <td>1.0</td>\n",
       "    </tr>\n",
       "    <tr>\n",
       "      <th>9951</th>\n",
       "      <td>0.691840</td>\n",
       "      <td>8.106579e-02</td>\n",
       "      <td>0.0</td>\n",
       "      <td>1.0</td>\n",
       "    </tr>\n",
       "    <tr>\n",
       "      <th>9952</th>\n",
       "      <td>-1.150284</td>\n",
       "      <td>-1.484072e+00</td>\n",
       "      <td>0.0</td>\n",
       "      <td>1.0</td>\n",
       "    </tr>\n",
       "  </tbody>\n",
       "</table>\n",
       "<p>9953 rows × 4 columns</p>\n",
       "</div>"
      ],
      "text/plain": [
       "        Height        Weight  Male  Female\n",
       "0     1.942295  2.514072e+00   1.0     0.0\n",
       "1     0.626277  3.299280e-02   1.0     0.0\n",
       "2     2.010651  1.612416e-16   1.0     0.0\n",
       "3     1.392506  1.612416e-16   1.0     0.0\n",
       "4     0.912051  1.612416e-16   1.0     0.0\n",
       "...        ...           ...   ...     ...\n",
       "9948 -1.647531 -1.981693e+00   0.0     1.0\n",
       "9949 -1.889731 -1.581323e+00   0.0     1.0\n",
       "9950 -0.650456 -1.021851e+00   0.0     1.0\n",
       "9951  0.691840  8.106579e-02   0.0     1.0\n",
       "9952 -1.150284 -1.484072e+00   0.0     1.0\n",
       "\n",
       "[9953 rows x 4 columns]"
      ]
     },
     "execution_count": 44,
     "metadata": {},
     "output_type": "execute_result"
    }
   ],
   "source": [
    "# Filling missing values with mean\n",
    "standardDF['Height'] = standardDF['Height'].fillna(standardDF['Height'].mean())\n",
    "standardDF['Weight'] = standardDF['Weight'].fillna(standardDF['Weight'].mean())\n",
    "standardDF"
   ]
  },
  {
   "cell_type": "markdown",
   "metadata": {},
   "source": [
    "## 7. Identify skewness in the data and apply transformation if needed\n",
    "\n",
    "Using the dataframe where null values were replaced by mean"
   ]
  },
  {
   "cell_type": "code",
   "execution_count": 47,
   "metadata": {},
   "outputs": [
    {
     "data": {
      "text/plain": [
       "Height    0.047735\n",
       "Weight    0.039398\n",
       "Male     -0.006655\n",
       "Female    0.006655\n",
       "dtype: float64"
      ]
     },
     "execution_count": 47,
     "metadata": {},
     "output_type": "execute_result"
    }
   ],
   "source": [
    "standardDF.skew(axis = 0, skipna = True)"
   ]
  },
  {
   "cell_type": "markdown",
   "metadata": {},
   "source": [
    "Very little skewness, hence no need for transformation"
   ]
  },
  {
   "cell_type": "markdown",
   "metadata": {},
   "source": [
    "## 8. Does the data have outliers? Identify and remove them"
   ]
  },
  {
   "cell_type": "code",
   "execution_count": 48,
   "metadata": {},
   "outputs": [
    {
     "name": "stdout",
     "output_type": "stream",
     "text": [
      "Height    1.459029\n",
      "Weight    1.588180\n",
      "Male      1.000000\n",
      "Female    1.000000\n",
      "dtype: float64\n"
     ]
    }
   ],
   "source": [
    "dfNumFeatures = standardDF.select_dtypes(include=np.number)\n",
    "Q1 = dfNumFeatures.quantile(0.25)\n",
    "Q3 = dfNumFeatures.quantile(0.75)\n",
    "IQR = Q3 - Q1\n",
    "print(IQR)   # Gives Inter Quartile range of each column"
   ]
  },
  {
   "cell_type": "code",
   "execution_count": 49,
   "metadata": {},
   "outputs": [
    {
     "data": {
      "text/plain": [
       "{'height outliers': 8, 'weight outlier': 1}"
      ]
     },
     "execution_count": 49,
     "metadata": {},
     "output_type": "execute_result"
    }
   ],
   "source": [
    "outlier = pd.DataFrame(\n",
    "    (dfNumFeatures < (Q1 - 1.5*IQR)) | (dfNumFeatures > (Q3 + 1.5*IQR)))\n",
    "\n",
    "outliers = {'height outliers': outlier['Height'].value_counts()[True],\n",
    "'weight outlier':outlier['Weight'].value_counts()[True]}\n",
    "\n",
    "outliers   # Outliers in categorical variable are zero"
   ]
  },
  {
   "cell_type": "code",
   "execution_count": 50,
   "metadata": {},
   "outputs": [
    {
     "data": {
      "image/png": "[encoded data removed]",
      "text/plain": [
       "<Figure size 2000x100 with 1 Axes>"
      ]
     },
     "metadata": {},
     "output_type": "display_data"
    },
    {
     "data": {
      "image/png": "[encoded data removed]",
      "text/plain": [
       "<Figure size 2000x100 with 1 Axes>"
      ]
     },
     "metadata": {},
     "output_type": "display_data"
    },
    {
     "data": {
      "image/png": "[encoded data removed]",
      "text/plain": [
       "<Figure size 2000x100 with 1 Axes>"
      ]
     },
     "metadata": {},
     "output_type": "display_data"
    },
    {
     "data": {
      "image/png": "[encoded data removed]",
      "text/plain": [
       "<Figure size 2000x100 with 1 Axes>"
      ]
     },
     "metadata": {},
     "output_type": "display_data"
    }
   ],
   "source": [
    "# Visualizing outliers using Boxplots\n",
    "for column in enumerate(dfNumFeatures):\n",
    "    plt.figure(figsize=(20,1))\n",
    "    sb.set_theme(style=\"whitegrid\")\n",
    "    sb.boxplot(x=column[1], data= dfNumFeatures)\n",
    "    plt.xlabel(column[1],fontsize=12)\n",
    "    plt.show()"
   ]
  },
  {
   "cell_type": "markdown",
   "metadata": {},
   "source": [
    "## 9. Transforming using equal frequency and equal width bins"
   ]
  },
  {
   "cell_type": "code",
   "execution_count": 51,
   "metadata": {},
   "outputs": [],
   "source": [
    "def equifreq(arr1, m):     \n",
    "    a = len(arr1)  \n",
    "    n = int(a / m)  \n",
    "    for i in range(0, m):  \n",
    "        arr = []  \n",
    "        for j in range(i * n, (i + 1) * n):  \n",
    "            if j >= a:  \n",
    "                break  \n",
    "            arrarr = arr + [arr1[j]]  \n",
    "        print(arr)  \n",
    "    \n",
    "def equiwidth(arr1, m):  \n",
    "    a = len(arr1)  \n",
    "    w = int((max(arr1) - min(arr1)) / m)  \n",
    "    minmin1 = min(arr1)  \n",
    "    arr = []  \n",
    "    for i in range(0, m + 1):  \n",
    "        arrarr = arr + [min1 + w * i]  \n",
    "    arri=[]  \n",
    "       \n",
    "    for i in range(0, m):  \n",
    "        temp = []  \n",
    "        for j in arr1:  \n",
    "            if j >= arr[i] and j <= arr[i+1]:  \n",
    "                temp += [j]  \n",
    "        arri += [temp]  \n",
    "    print(arri)  \n",
    "     \n",
    "     "
   ]
  },
  {
   "cell_type": "code",
   "execution_count": 52,
   "metadata": {},
   "outputs": [
    {
     "data": {
      "text/html": [
       "<div>\n",
       "<style scoped>\n",
       "    .dataframe tbody tr th:only-of-type {\n",
       "        vertical-align: middle;\n",
       "    }\n",
       "\n",
       "    .dataframe tbody tr th {\n",
       "        vertical-align: top;\n",
       "    }\n",
       "\n",
       "    .dataframe thead th {\n",
       "        text-align: right;\n",
       "    }\n",
       "</style>\n",
       "<table border=\"1\" class=\"dataframe\">\n",
       "  <thead>\n",
       "    <tr style=\"text-align: right;\">\n",
       "      <th></th>\n",
       "      <th>Height</th>\n",
       "      <th>Weight</th>\n",
       "      <th>Male</th>\n",
       "      <th>Female</th>\n",
       "    </tr>\n",
       "  </thead>\n",
       "  <tbody>\n",
       "    <tr>\n",
       "      <th>0</th>\n",
       "      <td>0.791728</td>\n",
       "      <td>0.863139</td>\n",
       "      <td>1.0</td>\n",
       "      <td>0.0</td>\n",
       "    </tr>\n",
       "    <tr>\n",
       "      <th>1</th>\n",
       "      <td>0.586958</td>\n",
       "      <td>0.475476</td>\n",
       "      <td>1.0</td>\n",
       "      <td>0.0</td>\n",
       "    </tr>\n",
       "    <tr>\n",
       "      <th>2</th>\n",
       "      <td>0.802364</td>\n",
       "      <td>NaN</td>\n",
       "      <td>1.0</td>\n",
       "      <td>0.0</td>\n",
       "    </tr>\n",
       "    <tr>\n",
       "      <th>3</th>\n",
       "      <td>0.706182</td>\n",
       "      <td>NaN</td>\n",
       "      <td>1.0</td>\n",
       "      <td>0.0</td>\n",
       "    </tr>\n",
       "    <tr>\n",
       "      <th>4</th>\n",
       "      <td>0.631424</td>\n",
       "      <td>NaN</td>\n",
       "      <td>1.0</td>\n",
       "      <td>0.0</td>\n",
       "    </tr>\n",
       "    <tr>\n",
       "      <th>...</th>\n",
       "      <td>...</td>\n",
       "      <td>...</td>\n",
       "      <td>...</td>\n",
       "      <td>...</td>\n",
       "    </tr>\n",
       "    <tr>\n",
       "      <th>9948</th>\n",
       "      <td>0.233158</td>\n",
       "      <td>0.160687</td>\n",
       "      <td>0.0</td>\n",
       "      <td>1.0</td>\n",
       "    </tr>\n",
       "    <tr>\n",
       "      <th>9949</th>\n",
       "      <td>0.195472</td>\n",
       "      <td>0.223243</td>\n",
       "      <td>0.0</td>\n",
       "      <td>1.0</td>\n",
       "    </tr>\n",
       "    <tr>\n",
       "      <th>9950</th>\n",
       "      <td>0.388301</td>\n",
       "      <td>0.310660</td>\n",
       "      <td>0.0</td>\n",
       "      <td>1.0</td>\n",
       "    </tr>\n",
       "    <tr>\n",
       "      <th>9951</th>\n",
       "      <td>0.597160</td>\n",
       "      <td>0.482988</td>\n",
       "      <td>0.0</td>\n",
       "      <td>1.0</td>\n",
       "    </tr>\n",
       "    <tr>\n",
       "      <th>9952</th>\n",
       "      <td>0.310529</td>\n",
       "      <td>0.238439</td>\n",
       "      <td>0.0</td>\n",
       "      <td>1.0</td>\n",
       "    </tr>\n",
       "  </tbody>\n",
       "</table>\n",
       "<p>9953 rows × 4 columns</p>\n",
       "</div>"
      ],
      "text/plain": [
       "        Height    Weight  Male  Female\n",
       "0     0.791728  0.863139   1.0     0.0\n",
       "1     0.586958  0.475476   1.0     0.0\n",
       "2     0.802364       NaN   1.0     0.0\n",
       "3     0.706182       NaN   1.0     0.0\n",
       "4     0.631424       NaN   1.0     0.0\n",
       "...        ...       ...   ...     ...\n",
       "9948  0.233158  0.160687   0.0     1.0\n",
       "9949  0.195472  0.223243   0.0     1.0\n",
       "9950  0.388301  0.310660   0.0     1.0\n",
       "9951  0.597160  0.482988   0.0     1.0\n",
       "9952  0.310529  0.238439   0.0     1.0\n",
       "\n",
       "[9953 rows x 4 columns]"
      ]
     },
     "execution_count": 52,
     "metadata": {},
     "output_type": "execute_result"
    }
   ],
   "source": [
    "scaledDF"
   ]
  }
 ],
 "metadata": {
  "colab": {
   "authorship_tag": "ABX9TyMV3AAabXklH/jQdaHWgwcS",
   "provenance": []
  },
  "kernelspec": {
   "display_name": "Python 3 (ipykernel)",
   "language": "python",
   "name": "python3"
  },
  "language_info": {
   "codemirror_mode": {
    "name": "ipython",
    "version": 3
   },
   "file_extension": ".py",
   "mimetype": "text/x-python",
   "name": "python",
   "nbconvert_exporter": "python",
   "pygments_lexer": "ipython3",
   "version": "3.11.2"
  }
 },
 "nbformat": 4,
 "nbformat_minor": 1
}
